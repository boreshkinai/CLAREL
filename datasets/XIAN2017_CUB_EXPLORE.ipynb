{
 "cells": [
  {
   "cell_type": "code",
   "execution_count": 50,
   "metadata": {},
   "outputs": [],
   "source": [
    "# !pip install keras\n",
    "# !nvidia-smi"
   ]
  },
  {
   "cell_type": "code",
   "execution_count": 51,
   "metadata": {},
   "outputs": [
    {
     "name": "stdout",
     "output_type": "stream",
     "text": [
      "The autoreload extension is already loaded. To reload it, use:\n",
      "  %reload_ext autoreload\n"
     ]
    }
   ],
   "source": [
    "%load_ext autoreload\n",
    "%autoreload 2"
   ]
  },
  {
   "cell_type": "code",
   "execution_count": 52,
   "metadata": {},
   "outputs": [],
   "source": [
    "import sys\n",
    "sys.path.append(\"../\") "
   ]
  },
  {
   "cell_type": "code",
   "execution_count": 53,
   "metadata": {},
   "outputs": [
    {
     "data": {
      "text/plain": [
       "environ{'PATH': '/opt/conda/bin:/opt/conda/bin:/usr/local/nvidia/bin:/usr/local/cuda/bin:/usr/local/sbin:/usr/local/bin:/usr/sbin:/usr/bin:/sbin:/bin',\n",
       "        'HOSTNAME': '78353253e378',\n",
       "        'TERM': 'xterm-color',\n",
       "        'NVIDIA_VISIBLE_DEVICES': '1',\n",
       "        'CUDA_VERSION': '9.0.176',\n",
       "        'CUDA_PKG_VERSION': '9-0=9.0.176-1',\n",
       "        'LD_LIBRARY_PATH': '/usr/local/nvidia/lib:/usr/local/nvidia/lib64',\n",
       "        'NVIDIA_DRIVER_CAPABILITIES': 'compute,utility',\n",
       "        'NVIDIA_REQUIRE_CUDA': 'cuda>=9.0',\n",
       "        'NCCL_VERSION': '2.4.2',\n",
       "        'LIBRARY_PATH': '/usr/local/cuda/lib64/stubs',\n",
       "        'CUDNN_VERSION': '7.4.2.24',\n",
       "        'LANG': 'C.UTF-8',\n",
       "        'HOME': '/root',\n",
       "        'JPY_PARENT_PID': '6',\n",
       "        'CLICOLOR': '1',\n",
       "        'PAGER': 'cat',\n",
       "        'GIT_PAGER': 'cat',\n",
       "        'MPLBACKEND': 'module://ipykernel.pylab.backend_inline',\n",
       "        'CUDA_VISIBLE_DEVICES': '1'}"
      ]
     },
     "execution_count": 53,
     "metadata": {},
     "output_type": "execute_result"
    }
   ],
   "source": [
    "import os\n",
    "os.environ['NVIDIA_VISIBLE_DEVICES'] = \"1\"\n",
    "os.environ['CUDA_VISIBLE_DEVICES'] = \"1\"\n",
    "os.environ"
   ]
  },
  {
   "cell_type": "code",
   "execution_count": 54,
   "metadata": {},
   "outputs": [],
   "source": [
    "# !python download_cvpr2016_cub.py"
   ]
  },
  {
   "cell_type": "code",
   "execution_count": 6,
   "metadata": {},
   "outputs": [
    {
     "name": "stderr",
     "output_type": "stream",
     "text": [
      "Using TensorFlow backend.\n",
      "11:36:54 INFO:starting...\n"
     ]
    }
   ],
   "source": [
    "from download_cvpr2016_cub import DEFAULT_DIR, download_and_uncompress_dataset\n",
    "from download_cvpr2016_flowers import DEFAULT_DIR as FLOWERS_DATA_DIR\n",
    "from download_cvpr2016_flowers import DEFAULT_FLOWERS_DIR\n",
    "from download_cvpr2016_cub import DEFAULT_CUB_DIR\n",
    "from torch.utils.serialization import load_lua\n",
    "import os\n",
    "import numpy as np\n",
    "from xian2017_cub_loader import Xian2017CubLoader\n",
    "from xian2018_flowers_loader import Xian2018FlowersLoader\n",
    "import matplotlib.pyplot as plt\n",
    "import logging \n",
    "import importlib \n",
    "import scipy\n",
    "importlib.reload(logging) \n",
    "logging.basicConfig(format='%(asctime)s %(levelname)s:%(message)s', level=logging.DEBUG, datefmt='%I:%M:%S') \n",
    "logging.info(\"starting...\")\n"
   ]
  },
  {
   "cell_type": "code",
   "execution_count": 7,
   "metadata": {},
   "outputs": [
    {
     "name": "stderr",
     "output_type": "stream",
     "text": [
      "11:36:54 INFO:Loading split trainval\n",
      "11:36:54 INFO:Loading cached file /mnt/datasets/public/research/cvpr2016_cub/split_trainval_xian2017.pkl\n",
      "11:37:00 INFO:Loaded cache in 5.939242 sec\n"
     ]
    }
   ],
   "source": [
    "loader_trainval = Xian2017CubLoader(data_dir=DEFAULT_DIR, cub_dir=DEFAULT_CUB_DIR, split='trainval')\n",
    "loader_trainval.load_cached()\n",
    "\n",
    "# loader_trainval.image_classes"
   ]
  },
  {
   "cell_type": "code",
   "execution_count": 8,
   "metadata": {},
   "outputs": [],
   "source": [
    "output = loader_trainval.next_batch_fewshot(batch_size=32, num_images=2, num_texts=15)\n",
    "\n",
    "# output = loader_trainval.next_batch_features(batch_size=32, num_images=2, num_texts=15)"
   ]
  },
  {
   "cell_type": "code",
   "execution_count": 307,
   "metadata": {},
   "outputs": [],
   "source": [
    "# loader_test_seen = Xian2017CubLoader(data_dir=DEFAULT_DIR, cub_dir=DEFAULT_CUB_DIR, split='test_seen')\n",
    "# loader_test_seen.load()\n",
    "# !mv /mnt/datasets/public/research/cvpr2016_cub/split_val_unseen_xian2017.pkl /mnt/datasets/public/research/cvpr2016_cub/split_val_unseen_xian2017_50classes.pkl"
   ]
  },
  {
   "cell_type": "code",
   "execution_count": 312,
   "metadata": {},
   "outputs": [
    {
     "name": "stdout",
     "output_type": "stream",
     "text": [
      "CUB_200_2011\t\t\tsplit_trainval_xian2017.pkl\n",
      "CUB_200_2011.tgz\t\tsplit_val_seen_xian2017.pkl\n",
      "allclasses.txt\t\t\tsplit_val_unseen_xian2017.pkl\n",
      "attributes.txt\t\t\tsplit_val_unseen_xian2017_50classes.pkl\n",
      "bow_c10\t\t\t\ttestclasses.txt\n",
      "cvpr2016_cub.tar.gz\t\ttext_c10\n",
      "datasets\t\t\ttrainclasses.txt\n",
      "images\t\t\t\ttrainids.txt\n",
      "inception_v2.ckpt\t\ttrainvalclasses.txt\n",
      "inception_v2.ckpt.tar.gz\ttrainvalids.txt\n",
      "inception_v3.ckpt\t\tvalclasses.txt\n",
      "inception_v3.ckpt-old\t\tvalids.txt\n",
      "inception_v3.ckpt.tar.gz\tvocab_c10.t7\n",
      "inception_v3.ckpt.tar.gz-old\tw2v_c10\n",
      "manifest.txt\t\t\tword_c10\n",
      "split_test_seen_xian2017.pkl\txlsa17\n",
      "split_test_unseen_xian2017.pkl\txlsa17.zip.tgz\n",
      "split_train_xian2017.pkl\n",
      "rm: cannot remove 'split_val_unseen_xian2017.pkl': No such file or directory\n"
     ]
    }
   ],
   "source": [
    "!ls /mnt/datasets/public/research/cvpr2016_cub/\n",
    "!rm split_val_unseen_xian2017.pkl"
   ]
  },
  {
   "cell_type": "code",
   "execution_count": 311,
   "metadata": {},
   "outputs": [
    {
     "name": "stderr",
     "output_type": "stream",
     "text": [
      "06:31:56 INFO:Loading split val_unseen\n",
      "06:31:56 INFO:Loading cached file /mnt/datasets/public/research/cvpr2016_cub/split_val_unseen_xian2017.pkl\n"
     ]
    },
    {
     "ename": "EOFError",
     "evalue": "Ran out of input",
     "output_type": "error",
     "traceback": [
      "\u001b[0;31m\u001b[0m",
      "\u001b[0;31mEOFError\u001b[0mTraceback (most recent call last)",
      "\u001b[0;32m<ipython-input-311-d935d699df7c>\u001b[0m in \u001b[0;36m<module>\u001b[0;34m\u001b[0m\n\u001b[1;32m      1\u001b[0m \u001b[0mloader_test\u001b[0m \u001b[0;34m=\u001b[0m \u001b[0mXian2017CubLoader\u001b[0m\u001b[0;34m(\u001b[0m\u001b[0mdata_dir\u001b[0m\u001b[0;34m=\u001b[0m\u001b[0mDEFAULT_DIR\u001b[0m\u001b[0;34m,\u001b[0m \u001b[0mcub_dir\u001b[0m\u001b[0;34m=\u001b[0m\u001b[0mDEFAULT_CUB_DIR\u001b[0m\u001b[0;34m,\u001b[0m \u001b[0msplit\u001b[0m\u001b[0;34m=\u001b[0m\u001b[0;34m'val_unseen'\u001b[0m\u001b[0;34m)\u001b[0m\u001b[0;34m\u001b[0m\u001b[0m\n\u001b[0;32m----> 2\u001b[0;31m \u001b[0mloader_test\u001b[0m\u001b[0;34m.\u001b[0m\u001b[0mload_cached\u001b[0m\u001b[0;34m(\u001b[0m\u001b[0;34m)\u001b[0m\u001b[0;34m\u001b[0m\u001b[0m\n\u001b[0m",
      "\u001b[0;32m/mnt/home/boris/dev/zeroshot-pairwise/datasets/xian2017_cub_loader.py\u001b[0m in \u001b[0;36mload_cached\u001b[0;34m(self)\u001b[0m\n\u001b[1;32m     68\u001b[0m             \u001b[0mdt_load\u001b[0m \u001b[0;34m=\u001b[0m \u001b[0mtime\u001b[0m\u001b[0;34m.\u001b[0m\u001b[0mtime\u001b[0m\u001b[0;34m(\u001b[0m\u001b[0;34m)\u001b[0m\u001b[0;34m\u001b[0m\u001b[0m\n\u001b[1;32m     69\u001b[0m             \u001b[0;32mwith\u001b[0m \u001b[0mgzip\u001b[0m\u001b[0;34m.\u001b[0m\u001b[0mGzipFile\u001b[0m\u001b[0;34m(\u001b[0m\u001b[0mcache_filepath\u001b[0m\u001b[0;34m,\u001b[0m \u001b[0;34m'r'\u001b[0m\u001b[0;34m)\u001b[0m \u001b[0;32mas\u001b[0m \u001b[0mf\u001b[0m\u001b[0;34m:\u001b[0m\u001b[0;34m\u001b[0m\u001b[0m\n\u001b[0;32m---> 70\u001b[0;31m                 \u001b[0mself\u001b[0m\u001b[0;34m.\u001b[0m\u001b[0m__dict__\u001b[0m\u001b[0;34m.\u001b[0m\u001b[0mupdate\u001b[0m\u001b[0;34m(\u001b[0m\u001b[0mpickle\u001b[0m\u001b[0;34m.\u001b[0m\u001b[0mload\u001b[0m\u001b[0;34m(\u001b[0m\u001b[0mf\u001b[0m\u001b[0;34m)\u001b[0m\u001b[0;34m.\u001b[0m\u001b[0m__dict__\u001b[0m\u001b[0;34m)\u001b[0m\u001b[0;34m\u001b[0m\u001b[0m\n\u001b[0m\u001b[1;32m     71\u001b[0m             \u001b[0mlogging\u001b[0m\u001b[0;34m.\u001b[0m\u001b[0minfo\u001b[0m\u001b[0;34m(\u001b[0m\u001b[0;34m\"Loaded cache in %f sec\"\u001b[0m \u001b[0;34m%\u001b[0m \u001b[0;34m(\u001b[0m\u001b[0mtime\u001b[0m\u001b[0;34m.\u001b[0m\u001b[0mtime\u001b[0m\u001b[0;34m(\u001b[0m\u001b[0;34m)\u001b[0m \u001b[0;34m-\u001b[0m \u001b[0mdt_load\u001b[0m\u001b[0;34m)\u001b[0m \u001b[0;34m)\u001b[0m\u001b[0;34m\u001b[0m\u001b[0m\n\u001b[1;32m     72\u001b[0m             \u001b[0;32mreturn\u001b[0m\u001b[0;34m\u001b[0m\u001b[0m\n",
      "\u001b[0;31mEOFError\u001b[0m: Ran out of input"
     ]
    }
   ],
   "source": [
    "loader_test = Xian2017CubLoader(data_dir=DEFAULT_DIR, cub_dir=DEFAULT_CUB_DIR, split='val_unseen')\n",
    "loader_test.load_cached()"
   ]
  },
  {
   "cell_type": "code",
   "execution_count": 71,
   "metadata": {},
   "outputs": [
    {
     "data": {
      "text/plain": [
       "33.33333333333333"
      ]
     },
     "execution_count": 71,
     "metadata": {},
     "output_type": "execute_result"
    }
   ],
   "source": [
    "len(loader_test.split_class_ids)\n",
    "\n",
    "\n",
    "loader_test.split_class_ids\n",
    "100/150 * 50"
   ]
  },
  {
   "cell_type": "code",
   "execution_count": 264,
   "metadata": {},
   "outputs": [],
   "source": [
    "# !rm /mnt/datasets/public/research/cvpr2016_cub/*pkl"
   ]
  },
  {
   "cell_type": "code",
   "execution_count": 44,
   "metadata": {},
   "outputs": [
    {
     "data": {
      "text/plain": [
       "1175"
      ]
     },
     "execution_count": 44,
     "metadata": {},
     "output_type": "execute_result"
    }
   ],
   "source": [
    "len(loader_test.image_file_names)"
   ]
  },
  {
   "cell_type": "code",
   "execution_count": 12,
   "metadata": {},
   "outputs": [],
   "source": [
    "# !ls /mnt/datasets/public/research/cvpr2016_flowers/cvpr18xian/data/FLO\n",
    "# !ls /mnt/datasets/public/research/cvpr2016_flowers/"
   ]
  },
  {
   "cell_type": "code",
   "execution_count": 13,
   "metadata": {},
   "outputs": [],
   "source": [
    "# !rm /mnt/datasets/public/research/cvpr2016_flowers/*pkl"
   ]
  },
  {
   "cell_type": "code",
   "execution_count": 38,
   "metadata": {},
   "outputs": [
    {
     "name": "stderr",
     "output_type": "stream",
     "text": [
      "02:47:17 INFO:Loading split val_seen\n",
      "100%|██████████| 8189/8189 [00:02<00:00, 2985.64it/s]\n"
     ]
    }
   ],
   "source": [
    "flowers_loader_trainval = Xian2018FlowersLoader(data_dir=\"/mnt/datasets/public/research/cvpr2016_flowers/\", \n",
    "                                        flowers_dir=DEFAULT_FLOWERS_DIR, split='val_seen')\n",
    "flowers_loader_trainval.load()"
   ]
  },
  {
   "cell_type": "code",
   "execution_count": 39,
   "metadata": {},
   "outputs": [
    {
     "data": {
      "text/plain": [
       "array([7734, 4100, 7735, ..., 6135, 4093, 6143], dtype=uint16)"
      ]
     },
     "execution_count": 39,
     "metadata": {},
     "output_type": "execute_result"
    }
   ],
   "source": [
    "flowers_loader_trainval.xlsa_split_image_idxs\n"
   ]
  },
  {
   "cell_type": "code",
   "execution_count": 37,
   "metadata": {},
   "outputs": [
    {
     "data": {
      "text/plain": [
       "array([7734, 4100, 7735, ..., 6135, 4093, 6143], dtype=uint16)"
      ]
     },
     "execution_count": 37,
     "metadata": {},
     "output_type": "execute_result"
    }
   ],
   "source": [
    "flowers_loader_trainval.xlsa_split_image_idxs\n"
   ]
  },
  {
   "cell_type": "code",
   "execution_count": 62,
   "metadata": {
    "scrolled": true
   },
   "outputs": [
    {
     "data": {
      "text/plain": [
       "5878"
      ]
     },
     "execution_count": 62,
     "metadata": {},
     "output_type": "execute_result"
    }
   ],
   "source": [
    "len(flowers_loader_trainval.att_splits_matfile['train_loc'])"
   ]
  },
  {
   "cell_type": "code",
   "execution_count": 43,
   "metadata": {},
   "outputs": [],
   "source": [
    "a = flowers_loader_trainval.next_batch_features()"
   ]
  },
  {
   "cell_type": "code",
   "execution_count": 55,
   "metadata": {},
   "outputs": [],
   "source": [
    "text = a[1]\n",
    "text_len = a[2]"
   ]
  },
  {
   "cell_type": "code",
   "execution_count": 56,
   "metadata": {},
   "outputs": [
    {
     "data": {
      "text/plain": [
       "array([[  4,   1,   5,   2,  10,   6,  11, 905,  11,  19,   0,   0,   0,\n",
       "          0,   0,   0,   0,   0,   0,   0,   0,   0,   0,   0,   0,   0,\n",
       "          0,   0,   0,   0],\n",
       "       [  4,   1,  15,  11,  13,  18,   7,   2,  10,   6,  43,  24,   0,\n",
       "          0,   0,   0,   0,   0,   0,   0,   0,   0,   0,   0,   0,   0,\n",
       "          0,   0,   0,   0],\n",
       "       [  8,  11,   1,   7, 394,  26,   2,  85,   8,  21,  30,   0,   0,\n",
       "          0,   0,   0,   0,   0,   0,   0,   0,   0,   0,   0,   0,   0,\n",
       "          0,   0,   0,   0],\n",
       "       [  4,   1,   5,  54,  29,  11,   2,   7,  40,  36,   3,  11,  19,\n",
       "          0,   0,   0,   0,   0,   0,   0,   0,   0,   0,   0,   0,   0,\n",
       "          0,   0,   0,   0],\n",
       "       [  4,   1,   5,   2,  10,   6,  11,   3,   5,  11,  19,   0,   0,\n",
       "          0,   0,   0,   0,   0,   0,   0,   0,   0,   0,   0,   0,   0,\n",
       "          0,   0,   0,   0]], dtype=int32)"
      ]
     },
     "execution_count": 56,
     "metadata": {},
     "output_type": "execute_result"
    }
   ],
   "source": [
    "text[0]"
   ]
  },
  {
   "cell_type": "code",
   "execution_count": 57,
   "metadata": {},
   "outputs": [
    {
     "data": {
      "text/plain": [
       "array([10, 10, 11, 11, 10])"
      ]
     },
     "execution_count": 57,
     "metadata": {},
     "output_type": "execute_result"
    }
   ],
   "source": [
    "text_len[1]"
   ]
  },
  {
   "cell_type": "code",
   "execution_count": 12,
   "metadata": {},
   "outputs": [
    {
     "name": "stderr",
     "output_type": "stream",
     "text": [
      "07:52:48 INFO:Searching for '/mnt/home/boris/experiments_zeroshot_pairwise/190327_001724_embedding_size_text_feature_extractor_number_of_steps_repeat_weight_decay_fc_latent_dim_hidden_dim_num_texts_dropout_encoder_decoder_test/embedding_size=512;dropout=0;latent_dim=0;text_feature_extractor=cnn_bi_lstm;number_of_steps=100001;repeat=0;weight_decay_fc=0.0001;hidden_dim=0;num_texts=10/params.json'\n",
      "07:52:48 INFO:Loading existing params.\n"
     ]
    },
    {
     "name": "stdout",
     "output_type": "stream",
     "text": [
      "[None, 1, 30, 300]\n",
      "Loading model\n",
      "INFO:tensorflow:Restoring parameters from /mnt/home/boris/experiments_zeroshot_pairwise/190327_001724_embedding_size_text_feature_extractor_number_of_steps_repeat_weight_decay_fc_latent_dim_hidden_dim_num_texts_dropout_encoder_decoder_test/embedding_size=512;dropout=0;latent_dim=0;text_feature_extractor=cnn_bi_lstm;number_of_steps=100001;repeat=0;weight_decay_fc=0.0001;hidden_dim=0;num_texts=10/train/model-100000\n"
     ]
    }
   ],
   "source": [
    "from train import ModelLoader\n",
    "\n",
    "pretrained_model_dir = '/mnt/home/boris/experiments_zeroshot_pairwise/190327_001724_embedding_size_text_feature_extractor_number_of_steps_repeat_weight_decay_fc_latent_dim_hidden_dim_num_texts_dropout_encoder_decoder_test/embedding_size=512;dropout=0;latent_dim=0;text_feature_extractor=cnn_bi_lstm;number_of_steps=100001;repeat=0;weight_decay_fc=0.0001;hidden_dim=0;num_texts=10'\n",
    "\n",
    "max_text_len = loader_trainval.max_text_len\n",
    "model = ModelLoader(model_path=pretrained_model_dir, \n",
    "                    batch_size=None, num_images=10, num_texts=10, max_text_len=max_text_len)"
   ]
  },
  {
   "cell_type": "code",
   "execution_count": 13,
   "metadata": {},
   "outputs": [
    {
     "name": "stderr",
     "output_type": "stream",
     "text": [
      "07:52:53 INFO:Computing embeddings\n",
      "297it [00:08, 57.18it/s]\n",
      "07:53:01 INFO:Computing metrics\n",
      " 32%|███▏      | 963/2967 [00:00<00:00, 9620.63it/s]"
     ]
    },
    {
     "name": "stdout",
     "output_type": "stream",
     "text": [
      "Compute KD-tree\n"
     ]
    },
    {
     "name": "stderr",
     "output_type": "stream",
     "text": [
      "100%|██████████| 2967/2967 [00:00<00:00, 9356.52it/s]\n",
      "100%|██████████| 50/50 [00:00<00:00, 413.48it/s]\n",
      "100%|██████████| 2967/2967 [00:00<00:00, 11563.30it/s]\n",
      "100%|██████████| 50/50 [00:00<00:00, 365.88it/s]\n",
      "100%|██████████| 2967/2967 [00:00<00:00, 11260.22it/s]\n",
      "100%|██████████| 50/50 [00:00<00:00, 408.75it/s]\n",
      "100%|██████████| 2967/2967 [00:00<00:00, 11767.99it/s]\n",
      "100%|██████████| 50/50 [00:00<00:00, 344.41it/s]\n",
      "100%|██████████| 2967/2967 [00:00<00:00, 10905.48it/s]\n",
      "100%|██████████| 50/50 [00:00<00:00, 378.41it/s]\n",
      "100%|██████████| 2967/2967 [00:00<00:00, 11330.40it/s]\n",
      "100%|██████████| 50/50 [00:00<00:00, 411.19it/s]\n"
     ]
    },
    {
     "data": {
      "text/plain": [
       "{'AP@50/#sentences10': 0.38679999999999992,\n",
       " 'Top-1 Acc/#sentences10': 0.40815638692281764,\n",
       " 'AP@50/#sentences50': 0.45280000000000004,\n",
       " 'Top-1 Acc/#sentences50': 0.5520728008088979,\n",
       " 'AP@50/#sentences100': 0.46559999999999996,\n",
       " 'Top-1 Acc/#sentences100': 0.58948432760364,\n",
       " 'AP@50/#sentences200': 0.48320000000000002,\n",
       " 'Top-1 Acc/#sentences200': 0.6154364678126053,\n",
       " 'AP@50/#sentences400': 0.49319999999999992,\n",
       " 'Top-1 Acc/#sentences400': 0.6228513650151668,\n",
       " 'AP@50/#sentences1000': 0.48759999999999998,\n",
       " 'Top-1 Acc/#sentences1000': 0.6285810583080553}"
      ]
     },
     "execution_count": 13,
     "metadata": {},
     "output_type": "execute_result"
    }
   ],
   "source": [
    "metrics, _, _ = model.eval_acc(data_set=loader_test, batch_size=10)\n",
    "metrics"
   ]
  },
  {
   "cell_type": "code",
   "execution_count": 67,
   "metadata": {},
   "outputs": [
    {
     "name": "stderr",
     "output_type": "stream",
     "text": [
      "12:18:43 INFO:Computing train embeddings\n",
      "883it [00:13, 66.64it/s]\n",
      "12:18:57 INFO:Computing test embeddings\n",
      "297it [00:04, 66.29it/s]\n",
      "12:19:01 INFO:Computing generalized zero-shot performance metrics\n",
      "100%|██████████| 6/6 [00:11<00:00,  1.85s/it]\n",
      "100%|██████████| 6/6 [00:33<00:00,  5.63s/it]\n"
     ]
    },
    {
     "data": {
      "text/plain": [
       "{'test_U_Top-1 Acc/#sentences10': 0.30712656653764581,\n",
       " 'test_S_Top-1 Acc/#sentences10': 0.31067775738034781,\n",
       " 'test_H_Top-1 Acc/#sentences10': 0.30889195568824646,\n",
       " 'test_U_Top-1 Acc/#sentences50': 0.48554183547816754,\n",
       " 'test_S_Top-1 Acc/#sentences50': 0.45517378439956541,\n",
       " 'test_H_Top-1 Acc/#sentences50': 0.46986764133380365,\n",
       " 'test_U_Top-1 Acc/#sentences100': 0.49311726191132593,\n",
       " 'test_S_Top-1 Acc/#sentences100': 0.49712601465838624,\n",
       " 'test_H_Top-1 Acc/#sentences100': 0.49511352406738679,\n",
       " 'test_U_Top-1 Acc/#sentences200': 0.52296639607465678,\n",
       " 'test_S_Top-1 Acc/#sentences200': 0.52371227658750186,\n",
       " 'test_H_Top-1 Acc/#sentences200': 0.5233390705676918,\n",
       " 'test_U_Top-1 Acc/#sentences400': 0.53337540222533442,\n",
       " 'test_S_Top-1 Acc/#sentences400': 0.52190299498455428,\n",
       " 'test_H_Top-1 Acc/#sentences400': 0.52757683774915198,\n",
       " 'test_U_Top-1 Acc/#sentences1000': 0.54197231207823382,\n",
       " 'test_S_Top-1 Acc/#sentences1000': 0.5278036438448731,\n",
       " 'test_H_Top-1 Acc/#sentences1000': 0.53479414936202507}"
      ]
     },
     "execution_count": 67,
     "metadata": {},
     "output_type": "execute_result"
    }
   ],
   "source": [
    "metrics, embeddings = model.eval_acc_gzsh(train_loader=loader_trainval, test_loader=loader_test, batch_size=10)\n",
    "seen_unseen_text_embeddings, image_embeddings_train, image_embeddings_test = embeddings\n",
    "metrics"
   ]
  },
  {
   "cell_type": "code",
   "execution_count": null,
   "metadata": {},
   "outputs": [],
   "source": []
  },
  {
   "cell_type": "code",
   "execution_count": 29,
   "metadata": {},
   "outputs": [
    {
     "name": "stdout",
     "output_type": "stream",
     "text": [
      "image_04997.jpg\n"
     ]
    },
    {
     "data": {
      "text/plain": [
       "['this flower has myriad small yellow petals that form a spherical bubble around the flower',\n",
       " 'this flower is yellow in color, with petals that are bunched together closely.',\n",
       " 'this flower has petals that are yellow and ruffled together',\n",
       " 'the petals of this flower are orange with a short stigma',\n",
       " 'this flower has petals that are overlapping and yellow and green pedicel.',\n",
       " 'this flower has a rounded mound of tiny petals which are orange and ruffled.',\n",
       " 'the small petals of the flower are semi ruffled, and consist of a vibrant yellow color.',\n",
       " 'a large golden flower with green leaves attached to it.',\n",
       " 'this flower has multiple rows of yellow ribbon like petals that wind tighter closer to the pistil.',\n",
       " 'this flower has yellow petals as well as a green sepal.']"
      ]
     },
     "execution_count": 29,
     "metadata": {},
     "output_type": "execute_result"
    }
   ],
   "source": [
    "\n",
    "image_id = 4514\n",
    "print(flowers_loader_trainval.image_file_names[image_id])\n",
    "flowers_loader_trainval.raw_texts[image_id]"
   ]
  },
  {
   "cell_type": "code",
   "execution_count": 131,
   "metadata": {},
   "outputs": [
    {
     "data": {
      "text/plain": [
       "array([[ 0.17475714,  0.01691125,  0.01377538, ...,  0.60658473,\n",
       "         0.        ,  0.        ],\n",
       "       [ 0.17475714,  0.01691125,  0.01377538, ...,  0.60658473,\n",
       "         0.        ,  0.        ],\n",
       "       [ 0.17475714,  0.01691125,  0.01377538, ...,  0.60658473,\n",
       "         0.        ,  0.        ],\n",
       "       ..., \n",
       "       [ 0.17475714,  0.01691125,  0.01377538, ...,  0.60658473,\n",
       "         0.        ,  0.        ],\n",
       "       [ 0.17475714,  0.01691125,  0.01377538, ...,  0.60658473,\n",
       "         0.        ,  0.        ],\n",
       "       [ 0.17475714,  0.01691125,  0.01377538, ...,  0.60658473,\n",
       "         0.        ,  0.        ]])"
      ]
     },
     "execution_count": 131,
     "metadata": {},
     "output_type": "execute_result"
    }
   ],
   "source": [
    "batch_features, batch_texts, batch_text_lengths, \\\n",
    "    labels_txt2img, class_labels = loader_trainval.next_batch_features()\n",
    "\n",
    "\n",
    "for batch_features, batch_texts, text_lengths_out in loader_trainval.sequential_evaluation_batches_features():\n",
    "    \n",
    "    break\n",
    "    \n",
    "batch_features[0]"
   ]
  },
  {
   "cell_type": "code",
   "execution_count": 69,
   "metadata": {},
   "outputs": [],
   "source": [
    "import scipy\n",
    "\n",
    "image_features_path = os.path.join(loader_trainval.xlsa17_dir, \"res101.mat\")\n",
    "image_features = scipy.io.loadmat(image_features_path)\n",
    "image_file_names = {n[0].split(\"/\")[-1]: f for n,f in zip(image_features['image_files'].ravel(), image_features['features'].transpose())}"
   ]
  },
  {
   "cell_type": "code",
   "execution_count": 101,
   "metadata": {},
   "outputs": [
    {
     "name": "stdout",
     "output_type": "stream",
     "text": [
      "dict_keys(['__header__', '__version__', '__globals__', 'image_files', 'features', 'labels'])\n"
     ]
    },
    {
     "data": {
      "text/plain": [
       "(2048,)"
      ]
     },
     "execution_count": 101,
     "metadata": {},
     "output_type": "execute_result"
    }
   ],
   "source": [
    "image_features['image_files']\n",
    "print(image_features.keys())\n",
    "\n",
    "zip(image_features['image_files'].ravel(), image_features['features'].transpose())\n",
    "image_file_names['Black_Footed_Albatross_0001_796111.jpg'].shape"
   ]
  },
  {
   "cell_type": "code",
   "execution_count": 210,
   "metadata": {},
   "outputs": [],
   "source": [
    "att_splits = scipy.io.loadmat(os.path.join(loader_trainval.xlsa17_dir, \"att_splits.mat\"))\n",
    "res101 = scipy.io.loadmat(os.path.join(loader_trainval.xlsa17_dir, \"res101.mat\"))"
   ]
  },
  {
   "cell_type": "code",
   "execution_count": 207,
   "metadata": {},
   "outputs": [
    {
     "data": {
      "text/plain": [
       "dict_keys(['__header__', '__version__', '__globals__', 'allclasses_names', 'att', 'original_att', 'test_seen_loc', 'test_unseen_loc', 'train_loc', 'trainval_loc', 'val_loc'])"
      ]
     },
     "execution_count": 207,
     "metadata": {},
     "output_type": "execute_result"
    }
   ],
   "source": [
    "att_splits.keys()"
   ]
  },
  {
   "cell_type": "code",
   "execution_count": 79,
   "metadata": {},
   "outputs": [
    {
     "data": {
      "text/plain": [
       "1764"
      ]
     },
     "execution_count": 79,
     "metadata": {},
     "output_type": "execute_result"
    }
   ],
   "source": [
    "len(att_splits['test_seen_loc'])"
   ]
  },
  {
   "cell_type": "code",
   "execution_count": 211,
   "metadata": {},
   "outputs": [
    {
     "data": {
      "text/plain": [
       "array([[[ array([ '/BS/Deep_Fragments/work/MSc/CUB_200_2011/CUB_200_2011/images/185.Bohemian_Waxwing/Bohemian_Waxwing_0078_796649.jpg'],\n",
       "      dtype='<U114')]],\n",
       "\n",
       "       [[ array([ '/BS/Deep_Fragments/work/MSc/CUB_200_2011/CUB_200_2011/images/186.Cedar_Waxwing/Cedar_Waxwing_0037_179710.jpg'],\n",
       "      dtype='<U108')]],\n",
       "\n",
       "       [[ array([ '/BS/Deep_Fragments/work/MSc/CUB_200_2011/CUB_200_2011/images/047.American_Goldfinch/American_Goldfinch_0014_32154.jpg'],\n",
       "      dtype='<U117')]],\n",
       "\n",
       "       ..., \n",
       "       [[ array([ '/BS/Deep_Fragments/work/MSc/CUB_200_2011/CUB_200_2011/images/090.Red_breasted_Merganser/Red_Breasted_Merganser_0034_79292.jpg'],\n",
       "      dtype='<U125')]],\n",
       "\n",
       "       [[ array([ '/BS/Deep_Fragments/work/MSc/CUB_200_2011/CUB_200_2011/images/196.House_Wren/House_Wren_0061_187911.jpg'],\n",
       "      dtype='<U102')]],\n",
       "\n",
       "       [[ array([ '/BS/Deep_Fragments/work/MSc/CUB_200_2011/CUB_200_2011/images/030.Fish_Crow/Fish_Crow_0003_25970.jpg'],\n",
       "      dtype='<U99')]]], dtype=object)"
      ]
     },
     "execution_count": 211,
     "metadata": {},
     "output_type": "execute_result"
    }
   ],
   "source": [
    "res101['image_files'][att_splits['trainval_loc']]"
   ]
  },
  {
   "cell_type": "code",
   "execution_count": 87,
   "metadata": {},
   "outputs": [
    {
     "data": {
      "text/plain": [
       "{'__header__': b'MATLAB 5.0 MAT-file, Platform: GLNXA64, Created on: Tue Apr 25 16:59:11 2017',\n",
       " '__version__': '1.0',\n",
       " '__globals__': [],\n",
       " 'image_files': array([[ array([ '/BS/Deep_Fragments/work/MSc/CUB_200_2011/CUB_200_2011/images/001.Black_footed_Albatross/Black_Footed_Albatross_0001_796111.jpg'],\n",
       "       dtype='<U126')],\n",
       "        [ array([ '/BS/Deep_Fragments/work/MSc/CUB_200_2011/CUB_200_2011/images/001.Black_footed_Albatross/Black_Footed_Albatross_0002_55.jpg'],\n",
       "       dtype='<U122')],\n",
       "        [ array([ '/BS/Deep_Fragments/work/MSc/CUB_200_2011/CUB_200_2011/images/001.Black_footed_Albatross/Black_Footed_Albatross_0003_796136.jpg'],\n",
       "       dtype='<U126')],\n",
       "        ..., \n",
       "        [ array([ '/BS/Deep_Fragments/work/MSc/CUB_200_2011/CUB_200_2011/images/200.Common_Yellowthroat/Common_Yellowthroat_0122_190570.jpg'],\n",
       "       dtype='<U120')],\n",
       "        [ array([ '/BS/Deep_Fragments/work/MSc/CUB_200_2011/CUB_200_2011/images/200.Common_Yellowthroat/Common_Yellowthroat_0125_190902.jpg'],\n",
       "       dtype='<U120')],\n",
       "        [ array([ '/BS/Deep_Fragments/work/MSc/CUB_200_2011/CUB_200_2011/images/200.Common_Yellowthroat/Common_Yellowthroat_0126_190407.jpg'],\n",
       "       dtype='<U120')]], dtype=object),\n",
       " 'features': array([[ 0.40892997,  0.41969657,  0.18802039, ...,  0.30434826,\n",
       "          0.35864624,  0.65450728],\n",
       "        [ 0.25413808,  0.30752203,  0.08614247, ...,  0.19108224,\n",
       "          0.13533165,  0.20017533],\n",
       "        [ 2.12168241,  0.77530569,  2.11704683, ...,  0.11788042,\n",
       "          0.06038139,  0.00543019],\n",
       "        ..., \n",
       "        [ 0.11358754,  0.21275087,  0.04323977, ...,  0.35180986,\n",
       "          0.54067051,  0.23211631],\n",
       "        [ 0.04199803,  0.14942844,  0.19070306, ...,  0.        ,\n",
       "          0.35444796,  0.03051368],\n",
       "        [ 0.12280495,  0.34912837,  0.        , ...,  0.04952463,\n",
       "          0.03132629,  0.        ]]),\n",
       " 'labels': array([[151],\n",
       "        [151],\n",
       "        [151],\n",
       "        ..., \n",
       "        [150],\n",
       "        [150],\n",
       "        [150]], dtype=uint8)}"
      ]
     },
     "execution_count": 87,
     "metadata": {},
     "output_type": "execute_result"
    }
   ],
   "source": [
    "image_features"
   ]
  },
  {
   "cell_type": "code",
   "execution_count": 23,
   "metadata": {},
   "outputs": [],
   "source": [
    "# loader_train = Cvpr2016CubLoader(data_dir=DEFAULT_DIR, cub_dir=DEFAULT_CUB_DIR, split='train')\n",
    "# loader_test = Cvpr2016CubLoader(data_dir=DEFAULT_DIR, cub_dir=DEFAULT_CUB_DIR, split='test')\n",
    "# loader_val = Cvpr2016CubLoader(data_dir=DEFAULT_DIR, cub_dir=DEFAULT_CUB_DIR, split='val')\n",
    "# loader_all = Cvpr2016CubLoader(data_dir=DEFAULT_DIR, cub_dir=DEFAULT_CUB_DIR, split='all')\n",
    "loader_trainval = Xian2017CubLoader(data_dir=DEFAULT_DIR, cub_dir=DEFAULT_CUB_DIR, split='trainval')"
   ]
  },
  {
   "cell_type": "code",
   "execution_count": 24,
   "metadata": {},
   "outputs": [],
   "source": [
    "# loader_train = Cvpr2016CubLoader(data_dir=DEFAULT_DIR, cub_dir=DEFAULT_CUB_DIR, split='train')\n",
    "# loader_test = Cvpr2016CubLoader(data_dir=DEFAULT_DIR, cub_dir=DEFAULT_CUB_DIR, split='test')\n",
    "# loader_val = Cvpr2016CubLoader(data_dir=DEFAULT_DIR, cub_dir=DEFAULT_CUB_DIR, split='val')\n",
    "# loader_all = Cvpr2016CubLoader(data_dir=DEFAULT_DIR, cub_dir=DEFAULT_CUB_DIR, split='all')\n",
    "# loader_trainval = Cvpr2016CubLoader(data_dir=DEFAULT_DIR, cub_dir=DEFAULT_CUB_DIR, split='trainval')"
   ]
  },
  {
   "cell_type": "code",
   "execution_count": 28,
   "metadata": {},
   "outputs": [
    {
     "name": "stderr",
     "output_type": "stream",
     "text": [
      "08:52:03 INFO:Loading split trainval\n"
     ]
    },
    {
     "ename": "AttributeError",
     "evalue": "'Xian2017CubLoader' object has no attribute 'xlsa17_dir'",
     "output_type": "error",
     "traceback": [
      "\u001b[0;31m\u001b[0m",
      "\u001b[0;31mAttributeError\u001b[0mTraceback (most recent call last)",
      "\u001b[0;32m<ipython-input-28-5479ced681c1>\u001b[0m in \u001b[0;36m<module>\u001b[0;34m\u001b[0m\n\u001b[1;32m      1\u001b[0m \u001b[0;31m# loader_train.load()\u001b[0m\u001b[0;34m\u001b[0m\u001b[0;34m\u001b[0m\u001b[0m\n\u001b[0;32m----> 2\u001b[0;31m \u001b[0mloader_trainval\u001b[0m\u001b[0;34m.\u001b[0m\u001b[0mload\u001b[0m\u001b[0;34m(\u001b[0m\u001b[0;34m)\u001b[0m\u001b[0;34m\u001b[0m\u001b[0m\n\u001b[0m\u001b[1;32m      3\u001b[0m \u001b[0;31m# loader_test.load()\u001b[0m\u001b[0;34m\u001b[0m\u001b[0;34m\u001b[0m\u001b[0m\n\u001b[1;32m      4\u001b[0m \u001b[0;31m# loader_val.load()\u001b[0m\u001b[0;34m\u001b[0m\u001b[0;34m\u001b[0m\u001b[0m\n\u001b[1;32m      5\u001b[0m \u001b[0;31m# loader_all.load()\u001b[0m\u001b[0;34m\u001b[0m\u001b[0;34m\u001b[0m\u001b[0m\n",
      "\u001b[0;32m/mnt/home/boris/dev/zeroshot-pairwise/datasets/xian2017_cub_loader.py\u001b[0m in \u001b[0;36mload\u001b[0;34m(self)\u001b[0m\n\u001b[1;32m     51\u001b[0m     \u001b[0;32mdef\u001b[0m \u001b[0mload\u001b[0m\u001b[0;34m(\u001b[0m\u001b[0mself\u001b[0m\u001b[0;34m)\u001b[0m\u001b[0;34m:\u001b[0m\u001b[0;34m\u001b[0m\u001b[0m\n\u001b[1;32m     52\u001b[0m         \u001b[0mlogging\u001b[0m\u001b[0;34m.\u001b[0m\u001b[0minfo\u001b[0m\u001b[0;34m(\u001b[0m\u001b[0;34m'Loading split %s'\u001b[0m \u001b[0;34m%\u001b[0m \u001b[0mself\u001b[0m\u001b[0;34m.\u001b[0m\u001b[0msplit\u001b[0m\u001b[0;34m)\u001b[0m\u001b[0;34m\u001b[0m\u001b[0m\n\u001b[0;32m---> 53\u001b[0;31m         \u001b[0mself\u001b[0m\u001b[0;34m.\u001b[0m\u001b[0m_load_image_meta\u001b[0m\u001b[0;34m(\u001b[0m\u001b[0;34m)\u001b[0m\u001b[0;34m\u001b[0m\u001b[0m\n\u001b[0m\u001b[1;32m     54\u001b[0m \u001b[0;31m#         self._load_tokenized_text()\u001b[0m\u001b[0;34m\u001b[0m\u001b[0;34m\u001b[0m\u001b[0m\n\u001b[1;32m     55\u001b[0m \u001b[0;31m#         self._load_text_embeddings()\u001b[0m\u001b[0;34m\u001b[0m\u001b[0;34m\u001b[0m\u001b[0m\n",
      "\u001b[0;32m/mnt/home/boris/dev/zeroshot-pairwise/datasets/xian2017_cub_loader.py\u001b[0m in \u001b[0;36m_load_image_meta\u001b[0;34m(self)\u001b[0m\n\u001b[1;32m    121\u001b[0m             \u001b[0mimage_lines\u001b[0m \u001b[0;34m=\u001b[0m \u001b[0mf\u001b[0m\u001b[0;34m.\u001b[0m\u001b[0mread\u001b[0m\u001b[0;34m(\u001b[0m\u001b[0;34m)\u001b[0m\u001b[0;34m.\u001b[0m\u001b[0msplitlines\u001b[0m\u001b[0;34m(\u001b[0m\u001b[0;34m)\u001b[0m\u001b[0;34m\u001b[0m\u001b[0m\n\u001b[1;32m    122\u001b[0m         \u001b[0;31m# Load train/val/test split file\u001b[0m\u001b[0;34m\u001b[0m\u001b[0;34m\u001b[0m\u001b[0m\n\u001b[0;32m--> 123\u001b[0;31m         \u001b[0msplit_class_ids\u001b[0m \u001b[0;34m=\u001b[0m \u001b[0mself\u001b[0m\u001b[0;34m.\u001b[0m\u001b[0m_load_split_class_ids\u001b[0m\u001b[0;34m(\u001b[0m\u001b[0;34m)\u001b[0m\u001b[0;34m\u001b[0m\u001b[0m\n\u001b[0m\u001b[1;32m    124\u001b[0m \u001b[0;34m\u001b[0m\u001b[0m\n\u001b[1;32m    125\u001b[0m         \u001b[0mself\u001b[0m\u001b[0;34m.\u001b[0m\u001b[0mimage_ids\u001b[0m \u001b[0;34m=\u001b[0m \u001b[0;34m[\u001b[0m\u001b[0;34m]\u001b[0m\u001b[0;34m\u001b[0m\u001b[0m\n",
      "\u001b[0;32m/mnt/home/boris/dev/zeroshot-pairwise/datasets/xian2017_cub_loader.py\u001b[0m in \u001b[0;36m_load_split_class_ids\u001b[0;34m(self)\u001b[0m\n\u001b[1;32m    112\u001b[0m \u001b[0;34m\u001b[0m\u001b[0m\n\u001b[1;32m    113\u001b[0m     \u001b[0;32mdef\u001b[0m \u001b[0m_load_split_class_ids\u001b[0m\u001b[0;34m(\u001b[0m\u001b[0mself\u001b[0m\u001b[0;34m)\u001b[0m\u001b[0;34m:\u001b[0m\u001b[0;34m\u001b[0m\u001b[0m\n\u001b[0;32m--> 114\u001b[0;31m         \u001b[0;32mwith\u001b[0m \u001b[0mopen\u001b[0m\u001b[0;34m(\u001b[0m\u001b[0mos\u001b[0m\u001b[0;34m.\u001b[0m\u001b[0mpath\u001b[0m\u001b[0;34m.\u001b[0m\u001b[0mjoin\u001b[0m\u001b[0;34m(\u001b[0m\u001b[0mself\u001b[0m\u001b[0;34m.\u001b[0m\u001b[0mxlsa17_dir\u001b[0m\u001b[0;34m,\u001b[0m \u001b[0mself\u001b[0m\u001b[0;34m.\u001b[0m\u001b[0msplit\u001b[0m \u001b[0;34m+\u001b[0m \u001b[0;34m'classes.txt'\u001b[0m\u001b[0;34m)\u001b[0m\u001b[0;34m,\u001b[0m \u001b[0;34m'r'\u001b[0m\u001b[0;34m)\u001b[0m \u001b[0;32mas\u001b[0m \u001b[0mf\u001b[0m\u001b[0;34m:\u001b[0m\u001b[0;34m\u001b[0m\u001b[0m\n\u001b[0m\u001b[1;32m    115\u001b[0m             \u001b[0msplit_classes\u001b[0m \u001b[0;34m=\u001b[0m \u001b[0mf\u001b[0m\u001b[0;34m.\u001b[0m\u001b[0mread\u001b[0m\u001b[0;34m(\u001b[0m\u001b[0;34m)\u001b[0m\u001b[0;34m.\u001b[0m\u001b[0msplitlines\u001b[0m\u001b[0;34m(\u001b[0m\u001b[0;34m)\u001b[0m\u001b[0;34m\u001b[0m\u001b[0m\n\u001b[1;32m    116\u001b[0m         \u001b[0;32mreturn\u001b[0m \u001b[0;34m[\u001b[0m\u001b[0mc\u001b[0m\u001b[0;34m.\u001b[0m\u001b[0msplit\u001b[0m\u001b[0;34m(\u001b[0m\u001b[0msep\u001b[0m\u001b[0;34m=\u001b[0m\u001b[0;34m'.'\u001b[0m\u001b[0;34m)\u001b[0m\u001b[0;34m[\u001b[0m\u001b[0;36m0\u001b[0m\u001b[0;34m]\u001b[0m \u001b[0;32mfor\u001b[0m \u001b[0mc\u001b[0m \u001b[0;32min\u001b[0m \u001b[0msplit_classes\u001b[0m\u001b[0;34m]\u001b[0m\u001b[0;34m\u001b[0m\u001b[0m\n",
      "\u001b[0;31mAttributeError\u001b[0m: 'Xian2017CubLoader' object has no attribute 'xlsa17_dir'"
     ]
    }
   ],
   "source": [
    "# loader_train.load()\n",
    "loader_trainval.load()\n",
    "# loader_test.load()\n",
    "# loader_val.load()\n",
    "# loader_all.load()\n",
    "\n",
    "loader_trainval.data_dir"
   ]
  },
  {
   "cell_type": "code",
   "execution_count": 44,
   "metadata": {},
   "outputs": [
    {
     "data": {
      "text/plain": [
       "['the large bird in the water has red eyes, a long white neck, and a gray and white back.',\n",
       " 'waterfowl with triangular beak of medium length, white cheeks, black long neck with white front, and gray back.',\n",
       " 'this bird has a red eyering, dark brown and black head, throat, and grey and white covering the rest of its body.',\n",
       " 'large bird with a long brown & white neck- has red eyes and a long beak.',\n",
       " 'this long necked bird has a brown neck, white cheek patches, and a distinctive red eye.',\n",
       " 'this particular bird has a gray beak and red eyes',\n",
       " 'this bird is white and brown in color, with alight colored beak.',\n",
       " 'a large black and white bird with a long skinny neck, a red eye, and a short pointy beak.',\n",
       " 'this bird has wings that are grey and has a long neck and red eyes',\n",
       " 'this bird has wings that are brown and has red eyes']"
      ]
     },
     "execution_count": 44,
     "metadata": {},
     "output_type": "execute_result"
    },
    {
     "data": {
      "image/png": "[encoded data removed]",
      "text/plain": [
       "<Figure size 432x288 with 1 Axes>"
      ]
     },
     "metadata": {
      "needs_background": "light"
     },
     "output_type": "display_data"
    }
   ],
   "source": [
    "image_id = 1000\n",
    "plt.imshow(loader_test.raw_images[image_id])\n",
    "loader_test.raw_texts[image_id]"
   ]
  },
  {
   "cell_type": "code",
   "execution_count": 73,
   "metadata": {},
   "outputs": [],
   "source": [
    "images, texts, text_lengths = loader_train.next_batch(batch_size=64, num_images=2, num_texts=5)"
   ]
  },
  {
   "cell_type": "code",
   "execution_count": 313,
   "metadata": {},
   "outputs": [
    {
     "ename": "NameError",
     "evalue": "name 'text_lengths' is not defined",
     "output_type": "error",
     "traceback": [
      "\u001b[0;31m\u001b[0m",
      "\u001b[0;31mNameError\u001b[0mTraceback (most recent call last)",
      "\u001b[0;32m<ipython-input-313-a7eeeaf1300c>\u001b[0m in \u001b[0;36m<module>\u001b[0;34m\u001b[0m\n\u001b[0;32m----> 1\u001b[0;31m \u001b[0mprint\u001b[0m\u001b[0;34m(\u001b[0m\u001b[0mtext_lengths\u001b[0m\u001b[0;34m[\u001b[0m\u001b[0;36m0\u001b[0m\u001b[0;34m]\u001b[0m\u001b[0;34m)\u001b[0m\u001b[0;34m\u001b[0m\u001b[0m\n\u001b[0m\u001b[1;32m      2\u001b[0m \u001b[0mprint\u001b[0m\u001b[0;34m(\u001b[0m\u001b[0mtexts\u001b[0m\u001b[0;34m[\u001b[0m\u001b[0;36m0\u001b[0m\u001b[0;34m]\u001b[0m\u001b[0;34m)\u001b[0m\u001b[0;34m\u001b[0m\u001b[0m\n\u001b[1;32m      3\u001b[0m \u001b[0;34m\u001b[0m\u001b[0m\n\u001b[1;32m      4\u001b[0m \u001b[0mprint\u001b[0m\u001b[0;34m(\u001b[0m\u001b[0;34m\" \"\u001b[0m\u001b[0;34m.\u001b[0m\u001b[0mjoin\u001b[0m\u001b[0;34m(\u001b[0m\u001b[0;34m[\u001b[0m\u001b[0mloader_train\u001b[0m\u001b[0;34m.\u001b[0m\u001b[0mtokenizer\u001b[0m\u001b[0;34m.\u001b[0m\u001b[0mindex_word\u001b[0m\u001b[0;34m[\u001b[0m\u001b[0mi\u001b[0m\u001b[0;34m]\u001b[0m \u001b[0;32mfor\u001b[0m \u001b[0mi\u001b[0m \u001b[0;32min\u001b[0m \u001b[0mtexts\u001b[0m\u001b[0;34m[\u001b[0m\u001b[0;36m0\u001b[0m\u001b[0;34m]\u001b[0m\u001b[0;34m[\u001b[0m\u001b[0;36m1\u001b[0m\u001b[0;34m]\u001b[0m \u001b[0;32mif\u001b[0m \u001b[0mi\u001b[0m \u001b[0;34m>\u001b[0m \u001b[0;36m0\u001b[0m\u001b[0;34m]\u001b[0m\u001b[0;34m)\u001b[0m\u001b[0;34m)\u001b[0m\u001b[0;34m\u001b[0m\u001b[0m\n\u001b[1;32m      5\u001b[0m \u001b[0;34m\u001b[0m\u001b[0m\n",
      "\u001b[0;31mNameError\u001b[0m: name 'text_lengths' is not defined"
     ]
    }
   ],
   "source": [
    "print(text_lengths[0])\n",
    "print(texts[0])\n",
    "\n",
    "print(\" \".join([loader_train.tokenizer.index_word[i] for i in texts[0][1] if i > 0]))\n",
    "\n",
    "plt.imshow(images[0][0])\n",
    "plt.show()\n",
    "plt.imshow(images[0][1])"
   ]
  },
  {
   "cell_type": "code",
   "execution_count": 5,
   "metadata": {},
   "outputs": [
    {
     "name": "stdout",
     "output_type": "stream",
     "text": [
      "\n",
      "Loading split trainval\n",
      "Loading cached file /mnt/datasets/public/research/cvpr2016_cub/split_trainval.pkl\n",
      "Loaded cache in 59.26743674278259 sec\n"
     ]
    }
   ],
   "source": [
    "loader_trainval = Cvpr2016CubLoader(data_dir=DEFAULT_DIR, cub_dir=DEFAULT_CUB_DIR, split='trainval')\n",
    "loader_trainval.load_cached()"
   ]
  },
  {
   "cell_type": "code",
   "execution_count": 7,
   "metadata": {},
   "outputs": [
    {
     "data": {
      "text/plain": [
       "dtype('int64')"
      ]
     },
     "execution_count": 7,
     "metadata": {},
     "output_type": "execute_result"
    }
   ],
   "source": [
    "a = loader_trainval.next_batch_features()\n",
    "a[-1].dtype"
   ]
  },
  {
   "cell_type": "code",
   "execution_count": 12,
   "metadata": {},
   "outputs": [
    {
     "data": {
      "text/plain": [
       "{'002',\n",
       " '003',\n",
       " '005',\n",
       " '007',\n",
       " '010',\n",
       " '011',\n",
       " '012',\n",
       " '013',\n",
       " '015',\n",
       " '016',\n",
       " '017',\n",
       " '018',\n",
       " '019',\n",
       " '020',\n",
       " '021',\n",
       " '022',\n",
       " '024',\n",
       " '025',\n",
       " '026',\n",
       " '027',\n",
       " '028',\n",
       " '030',\n",
       " '032',\n",
       " '039',\n",
       " '040',\n",
       " '041',\n",
       " '042',\n",
       " '044',\n",
       " '045',\n",
       " '046',\n",
       " '047',\n",
       " '048',\n",
       " '050',\n",
       " '052',\n",
       " '054',\n",
       " '055',\n",
       " '056',\n",
       " '057',\n",
       " '058',\n",
       " '059',\n",
       " '060',\n",
       " '061',\n",
       " '062',\n",
       " '063',\n",
       " '064',\n",
       " '065',\n",
       " '067',\n",
       " '068',\n",
       " '069',\n",
       " '070',\n",
       " '071',\n",
       " '073',\n",
       " '074',\n",
       " '075',\n",
       " '076',\n",
       " '077',\n",
       " '078',\n",
       " '080',\n",
       " '081',\n",
       " '082',\n",
       " '085',\n",
       " '087',\n",
       " '088',\n",
       " '089',\n",
       " '090',\n",
       " '092',\n",
       " '093',\n",
       " '094',\n",
       " '097',\n",
       " '099',\n",
       " '100',\n",
       " '104',\n",
       " '105',\n",
       " '106',\n",
       " '107',\n",
       " '108',\n",
       " '109',\n",
       " '110',\n",
       " '111',\n",
       " '113',\n",
       " '115',\n",
       " '116',\n",
       " '117',\n",
       " '118',\n",
       " '120',\n",
       " '122',\n",
       " '123',\n",
       " '124',\n",
       " '125',\n",
       " '126',\n",
       " '127',\n",
       " '128',\n",
       " '129',\n",
       " '131',\n",
       " '132',\n",
       " '133',\n",
       " '134',\n",
       " '136',\n",
       " '137',\n",
       " '139',\n",
       " '140',\n",
       " '141',\n",
       " '142',\n",
       " '143',\n",
       " '144',\n",
       " '145',\n",
       " '146',\n",
       " '148',\n",
       " '149',\n",
       " '150',\n",
       " '151',\n",
       " '152',\n",
       " '153',\n",
       " '154',\n",
       " '155',\n",
       " '157',\n",
       " '158',\n",
       " '159',\n",
       " '160',\n",
       " '161',\n",
       " '162',\n",
       " '164',\n",
       " '167',\n",
       " '168',\n",
       " '169',\n",
       " '170',\n",
       " '171',\n",
       " '172',\n",
       " '173',\n",
       " '174',\n",
       " '175',\n",
       " '176',\n",
       " '177',\n",
       " '178',\n",
       " '179',\n",
       " '181',\n",
       " '182',\n",
       " '184',\n",
       " '188',\n",
       " '189',\n",
       " '190',\n",
       " '191',\n",
       " '192',\n",
       " '193',\n",
       " '194',\n",
       " '195',\n",
       " '196',\n",
       " '198',\n",
       " '199',\n",
       " '200'}"
      ]
     },
     "execution_count": 12,
     "metadata": {},
     "output_type": "execute_result"
    }
   ],
   "source": [
    "set(loader_trainval.image_classes)"
   ]
  },
  {
   "cell_type": "code",
   "execution_count": 314,
   "metadata": {},
   "outputs": [
    {
     "name": "stderr",
     "output_type": "stream",
     "text": [
      "/opt/conda/lib/python3.6/site-packages/matplotlib/__init__.py:1405: UserWarning: \n",
      "This call to matplotlib.use() has no effect because the backend has already\n",
      "been chosen; matplotlib.use() must be called *before* pylab, matplotlib.pyplot,\n",
      "or matplotlib.backends is imported for the first time.\n",
      "\n",
      "  warnings.warn(_use_error_msg)\n",
      "[autoreload of matplotlib.colors failed: Traceback (most recent call last):\n",
      "  File \"/opt/conda/lib/python3.6/site-packages/IPython/extensions/autoreload.py\", line 244, in check\n",
      "    superreload(m, reload, self.old_objects)\n",
      "  File \"/opt/conda/lib/python3.6/site-packages/IPython/extensions/autoreload.py\", line 376, in superreload\n",
      "    module = reload(module)\n",
      "  File \"/opt/conda/lib/python3.6/imp.py\", line 314, in reload\n",
      "    return importlib.reload(module)\n",
      "  File \"/opt/conda/lib/python3.6/importlib/__init__.py\", line 166, in reload\n",
      "    _bootstrap._exec(spec, module)\n",
      "  File \"<frozen importlib._bootstrap>\", line 608, in _exec\n",
      "  File \"<frozen importlib._bootstrap_external>\", line 678, in exec_module\n",
      "  File \"<frozen importlib._bootstrap>\", line 205, in _call_with_frames_removed\n",
      "  File \"/opt/conda/lib/python3.6/site-packages/matplotlib/colors.py\", line 68, in <module>\n",
      "    import matplotlib.cbook as cbook\n",
      "AttributeError: module 'matplotlib' has no attribute 'cbook'\n",
      "]\n",
      "[autoreload of matplotlib.dates failed: Traceback (most recent call last):\n",
      "  File \"/opt/conda/lib/python3.6/site-packages/IPython/extensions/autoreload.py\", line 244, in check\n",
      "    superreload(m, reload, self.old_objects)\n",
      "  File \"/opt/conda/lib/python3.6/site-packages/IPython/extensions/autoreload.py\", line 376, in superreload\n",
      "    module = reload(module)\n",
      "  File \"/opt/conda/lib/python3.6/imp.py\", line 314, in reload\n",
      "    return importlib.reload(module)\n",
      "  File \"/opt/conda/lib/python3.6/importlib/__init__.py\", line 166, in reload\n",
      "    _bootstrap._exec(spec, module)\n",
      "  File \"<frozen importlib._bootstrap>\", line 608, in _exec\n",
      "  File \"<frozen importlib._bootstrap_external>\", line 678, in exec_module\n",
      "  File \"<frozen importlib._bootstrap>\", line 205, in _call_with_frames_removed\n",
      "  File \"/opt/conda/lib/python3.6/site-packages/matplotlib/dates.py\", line 134, in <module>\n",
      "    import matplotlib.units as units\n",
      "AttributeError: module 'matplotlib' has no attribute 'units'\n",
      "]\n",
      "[autoreload of matplotlib.transforms failed: Traceback (most recent call last):\n",
      "  File \"/opt/conda/lib/python3.6/site-packages/IPython/extensions/autoreload.py\", line 244, in check\n",
      "    superreload(m, reload, self.old_objects)\n",
      "  File \"/opt/conda/lib/python3.6/site-packages/IPython/extensions/autoreload.py\", line 392, in superreload\n",
      "    update_generic(old_obj, new_obj)\n",
      "  File \"/opt/conda/lib/python3.6/site-packages/IPython/extensions/autoreload.py\", line 329, in update_generic\n",
      "    update(a, b)\n",
      "  File \"/opt/conda/lib/python3.6/site-packages/IPython/extensions/autoreload.py\", line 277, in update_class\n",
      "    if old_obj == new_obj:\n",
      "ValueError: The truth value of an array with more than one element is ambiguous. Use a.any() or a.all()\n",
      "]\n",
      "[autoreload of matplotlib.pyplot failed: Traceback (most recent call last):\n",
      "  File \"/opt/conda/lib/python3.6/site-packages/IPython/extensions/autoreload.py\", line 244, in check\n",
      "    superreload(m, reload, self.old_objects)\n",
      "  File \"/opt/conda/lib/python3.6/site-packages/IPython/extensions/autoreload.py\", line 376, in superreload\n",
      "    module = reload(module)\n",
      "  File \"/opt/conda/lib/python3.6/imp.py\", line 314, in reload\n",
      "    return importlib.reload(module)\n",
      "  File \"/opt/conda/lib/python3.6/importlib/__init__.py\", line 166, in reload\n",
      "    _bootstrap._exec(spec, module)\n",
      "  File \"<frozen importlib._bootstrap>\", line 608, in _exec\n",
      "  File \"<frozen importlib._bootstrap_external>\", line 678, in exec_module\n",
      "  File \"<frozen importlib._bootstrap>\", line 205, in _call_with_frames_removed\n",
      "  File \"/opt/conda/lib/python3.6/site-packages/matplotlib/pyplot.py\", line 2263, in <module>\n",
      "    colorbar.__doc__ = matplotlib.colorbar.colorbar_doc\n",
      "AttributeError: module 'matplotlib' has no attribute 'colorbar'\n",
      "]\n",
      "[autoreload of matplotlib.colorbar failed: Traceback (most recent call last):\n",
      "  File \"/opt/conda/lib/python3.6/site-packages/IPython/extensions/autoreload.py\", line 244, in check\n",
      "    superreload(m, reload, self.old_objects)\n",
      "  File \"/opt/conda/lib/python3.6/site-packages/IPython/extensions/autoreload.py\", line 376, in superreload\n",
      "    module = reload(module)\n",
      "  File \"/opt/conda/lib/python3.6/imp.py\", line 314, in reload\n",
      "    return importlib.reload(module)\n",
      "  File \"/opt/conda/lib/python3.6/importlib/__init__.py\", line 166, in reload\n",
      "    _bootstrap._exec(spec, module)\n",
      "  File \"<frozen importlib._bootstrap>\", line 608, in _exec\n",
      "  File \"<frozen importlib._bootstrap_external>\", line 678, in exec_module\n",
      "  File \"<frozen importlib._bootstrap>\", line 205, in _call_with_frames_removed\n",
      "  File \"/opt/conda/lib/python3.6/site-packages/matplotlib/colorbar.py\", line 32, in <module>\n",
      "    import matplotlib.artist as martist\n",
      "AttributeError: module 'matplotlib' has no attribute 'artist'\n",
      "]\n",
      "[autoreload of matplotlib.artist failed: Traceback (most recent call last):\n",
      "  File \"/opt/conda/lib/python3.6/site-packages/IPython/extensions/autoreload.py\", line 244, in check\n",
      "    superreload(m, reload, self.old_objects)\n",
      "  File \"/opt/conda/lib/python3.6/site-packages/IPython/extensions/autoreload.py\", line 376, in superreload\n",
      "    module = reload(module)\n",
      "  File \"/opt/conda/lib/python3.6/imp.py\", line 314, in reload\n",
      "    return importlib.reload(module)\n",
      "  File \"/opt/conda/lib/python3.6/importlib/__init__.py\", line 166, in reload\n",
      "    _bootstrap._exec(spec, module)\n",
      "  File \"<frozen importlib._bootstrap>\", line 608, in _exec\n",
      "  File \"<frozen importlib._bootstrap_external>\", line 678, in exec_module\n",
      "  File \"<frozen importlib._bootstrap>\", line 205, in _call_with_frames_removed\n",
      "  File \"/opt/conda/lib/python3.6/site-packages/matplotlib/artist.py\", line 12, in <module>\n",
      "    import matplotlib.cbook as cbook\n",
      "AttributeError: module 'matplotlib' has no attribute 'cbook'\n",
      "]\n",
      "[autoreload of matplotlib.collections failed: Traceback (most recent call last):\n",
      "  File \"/opt/conda/lib/python3.6/site-packages/IPython/extensions/autoreload.py\", line 244, in check\n",
      "    superreload(m, reload, self.old_objects)\n",
      "  File \"/opt/conda/lib/python3.6/site-packages/IPython/extensions/autoreload.py\", line 376, in superreload\n",
      "    module = reload(module)\n",
      "  File \"/opt/conda/lib/python3.6/imp.py\", line 314, in reload\n",
      "    return importlib.reload(module)\n",
      "  File \"/opt/conda/lib/python3.6/importlib/__init__.py\", line 166, in reload\n",
      "    _bootstrap._exec(spec, module)\n",
      "  File \"<frozen importlib._bootstrap>\", line 608, in _exec\n",
      "  File \"<frozen importlib._bootstrap_external>\", line 678, in exec_module\n",
      "  File \"<frozen importlib._bootstrap>\", line 205, in _call_with_frames_removed\n",
      "  File \"/opt/conda/lib/python3.6/site-packages/matplotlib/collections.py\", line 27, in <module>\n",
      "    import matplotlib.cbook as cbook\n",
      "AttributeError: module 'matplotlib' has no attribute 'cbook'\n",
      "]\n",
      "[autoreload of matplotlib.cm failed: Traceback (most recent call last):\n",
      "  File \"/opt/conda/lib/python3.6/site-packages/IPython/extensions/autoreload.py\", line 244, in check\n",
      "    superreload(m, reload, self.old_objects)\n",
      "  File \"/opt/conda/lib/python3.6/site-packages/IPython/extensions/autoreload.py\", line 376, in superreload\n",
      "    module = reload(module)\n",
      "  File \"/opt/conda/lib/python3.6/imp.py\", line 314, in reload\n",
      "    return importlib.reload(module)\n",
      "  File \"/opt/conda/lib/python3.6/importlib/__init__.py\", line 166, in reload\n",
      "    _bootstrap._exec(spec, module)\n",
      "  File \"<frozen importlib._bootstrap>\", line 608, in _exec\n",
      "  File \"<frozen importlib._bootstrap_external>\", line 678, in exec_module\n",
      "  File \"<frozen importlib._bootstrap>\", line 205, in _call_with_frames_removed\n",
      "  File \"/opt/conda/lib/python3.6/site-packages/matplotlib/cm.py\", line 16, in <module>\n",
      "    import matplotlib.colors as colors\n",
      "AttributeError: module 'matplotlib' has no attribute 'colors'\n",
      "]\n",
      "[autoreload of matplotlib.mlab failed: Traceback (most recent call last):\n",
      "  File \"/opt/conda/lib/python3.6/site-packages/IPython/extensions/autoreload.py\", line 244, in check\n",
      "    superreload(m, reload, self.old_objects)\n",
      "  File \"/opt/conda/lib/python3.6/site-packages/IPython/extensions/autoreload.py\", line 376, in superreload\n",
      "    module = reload(module)\n",
      "  File \"/opt/conda/lib/python3.6/imp.py\", line 314, in reload\n",
      "    return importlib.reload(module)\n",
      "  File \"/opt/conda/lib/python3.6/importlib/__init__.py\", line 166, in reload\n",
      "    _bootstrap._exec(spec, module)\n",
      "  File \"<frozen importlib._bootstrap>\", line 608, in _exec\n",
      "  File \"<frozen importlib._bootstrap_external>\", line 678, in exec_module\n",
      "  File \"<frozen importlib._bootstrap>\", line 205, in _call_with_frames_removed\n",
      "  File \"/opt/conda/lib/python3.6/site-packages/matplotlib/mlab.py\", line 180, in <module>\n",
      "    import matplotlib.cbook as cbook\n",
      "AttributeError: module 'matplotlib' has no attribute 'cbook'\n",
      "]\n",
      "[autoreload of matplotlib.contour failed: Traceback (most recent call last):\n",
      "  File \"/opt/conda/lib/python3.6/site-packages/IPython/extensions/autoreload.py\", line 244, in check\n",
      "    superreload(m, reload, self.old_objects)\n",
      "  File \"/opt/conda/lib/python3.6/site-packages/IPython/extensions/autoreload.py\", line 376, in superreload\n",
      "    module = reload(module)\n",
      "  File \"/opt/conda/lib/python3.6/imp.py\", line 314, in reload\n",
      "    return importlib.reload(module)\n",
      "  File \"/opt/conda/lib/python3.6/importlib/__init__.py\", line 166, in reload\n",
      "    _bootstrap._exec(spec, module)\n",
      "  File \"<frozen importlib._bootstrap>\", line 608, in _exec\n",
      "  File \"<frozen importlib._bootstrap_external>\", line 678, in exec_module\n",
      "  File \"<frozen importlib._bootstrap>\", line 205, in _call_with_frames_removed\n",
      "  File \"/opt/conda/lib/python3.6/site-packages/matplotlib/contour.py\", line 15, in <module>\n",
      "    import matplotlib._cntr as _cntr\n",
      "AttributeError: module 'matplotlib' has no attribute '_cntr'\n",
      "]\n",
      "[autoreload of matplotlib.text failed: Traceback (most recent call last):\n",
      "  File \"/opt/conda/lib/python3.6/site-packages/IPython/extensions/autoreload.py\", line 244, in check\n",
      "    superreload(m, reload, self.old_objects)\n",
      "  File \"/opt/conda/lib/python3.6/site-packages/IPython/extensions/autoreload.py\", line 376, in superreload\n",
      "    module = reload(module)\n",
      "  File \"/opt/conda/lib/python3.6/imp.py\", line 314, in reload\n",
      "    return importlib.reload(module)\n",
      "  File \"/opt/conda/lib/python3.6/importlib/__init__.py\", line 166, in reload\n",
      "    _bootstrap._exec(spec, module)\n",
      "  File \"<frozen importlib._bootstrap>\", line 608, in _exec\n",
      "  File \"<frozen importlib._bootstrap_external>\", line 678, in exec_module\n",
      "  File \"<frozen importlib._bootstrap>\", line 205, in _call_with_frames_removed\n",
      "  File \"/opt/conda/lib/python3.6/site-packages/matplotlib/text.py\", line 19, in <module>\n",
      "    import matplotlib.artist as artist\n",
      "AttributeError: module 'matplotlib' has no attribute 'artist'\n",
      "]\n",
      "[autoreload of matplotlib.patches failed: Traceback (most recent call last):\n",
      "  File \"/opt/conda/lib/python3.6/site-packages/IPython/extensions/autoreload.py\", line 244, in check\n",
      "    superreload(m, reload, self.old_objects)\n",
      "  File \"/opt/conda/lib/python3.6/site-packages/IPython/extensions/autoreload.py\", line 376, in superreload\n",
      "    module = reload(module)\n",
      "  File \"/opt/conda/lib/python3.6/imp.py\", line 314, in reload\n",
      "    return importlib.reload(module)\n",
      "  File \"/opt/conda/lib/python3.6/importlib/__init__.py\", line 166, in reload\n",
      "    _bootstrap._exec(spec, module)\n",
      "  File \"<frozen importlib._bootstrap>\", line 608, in _exec\n",
      "  File \"<frozen importlib._bootstrap_external>\", line 678, in exec_module\n",
      "  File \"<frozen importlib._bootstrap>\", line 205, in _call_with_frames_removed\n",
      "  File \"/opt/conda/lib/python3.6/site-packages/matplotlib/patches.py\", line 14, in <module>\n",
      "    import matplotlib.cbook as cbook\n",
      "AttributeError: module 'matplotlib' has no attribute 'cbook'\n",
      "]\n",
      "[autoreload of matplotlib.bezier failed: Traceback (most recent call last):\n",
      "  File \"/opt/conda/lib/python3.6/site-packages/IPython/extensions/autoreload.py\", line 244, in check\n",
      "    superreload(m, reload, self.old_objects)\n",
      "  File \"/opt/conda/lib/python3.6/site-packages/IPython/extensions/autoreload.py\", line 392, in superreload\n",
      "    update_generic(old_obj, new_obj)\n",
      "  File \"/opt/conda/lib/python3.6/site-packages/IPython/extensions/autoreload.py\", line 329, in update_generic\n",
      "    update(a, b)\n",
      "  File \"/opt/conda/lib/python3.6/site-packages/IPython/extensions/autoreload.py\", line 277, in update_class\n",
      "    if old_obj == new_obj:\n",
      "ValueError: The truth value of an array with more than one element is ambiguous. Use a.any() or a.all()\n",
      "]\n",
      "[autoreload of matplotlib.backend_bases failed: Traceback (most recent call last):\n",
      "  File \"/opt/conda/lib/python3.6/site-packages/IPython/extensions/autoreload.py\", line 244, in check\n",
      "    superreload(m, reload, self.old_objects)\n",
      "  File \"/opt/conda/lib/python3.6/site-packages/IPython/extensions/autoreload.py\", line 376, in superreload\n",
      "    module = reload(module)\n",
      "  File \"/opt/conda/lib/python3.6/imp.py\", line 314, in reload\n",
      "    return importlib.reload(module)\n",
      "  File \"/opt/conda/lib/python3.6/importlib/__init__.py\", line 166, in reload\n",
      "    _bootstrap._exec(spec, module)\n",
      "  File \"<frozen importlib._bootstrap>\", line 608, in _exec\n",
      "  File \"<frozen importlib._bootstrap_external>\", line 678, in exec_module\n",
      "  File \"<frozen importlib._bootstrap>\", line 205, in _call_with_frames_removed\n",
      "  File \"/opt/conda/lib/python3.6/site-packages/matplotlib/backend_bases.py\", line 49, in <module>\n",
      "    import matplotlib.cbook as cbook\n",
      "AttributeError: module 'matplotlib' has no attribute 'cbook'\n",
      "]\n",
      "[autoreload of matplotlib.textpath failed: Traceback (most recent call last):\n",
      "  File \"/opt/conda/lib/python3.6/site-packages/IPython/extensions/autoreload.py\", line 244, in check\n",
      "    superreload(m, reload, self.old_objects)\n",
      "  File \"/opt/conda/lib/python3.6/site-packages/IPython/extensions/autoreload.py\", line 376, in superreload\n",
      "    module = reload(module)\n",
      "  File \"/opt/conda/lib/python3.6/imp.py\", line 314, in reload\n",
      "    return importlib.reload(module)\n",
      "  File \"/opt/conda/lib/python3.6/importlib/__init__.py\", line 166, in reload\n",
      "    _bootstrap._exec(spec, module)\n",
      "  File \"<frozen importlib._bootstrap>\", line 608, in _exec\n",
      "  File \"<frozen importlib._bootstrap_external>\", line 678, in exec_module\n",
      "  File \"<frozen importlib._bootstrap>\", line 205, in _call_with_frames_removed\n",
      "  File \"/opt/conda/lib/python3.6/site-packages/matplotlib/textpath.py\", line 17, in <module>\n",
      "    import matplotlib.font_manager as font_manager\n",
      "AttributeError: module 'matplotlib' has no attribute 'font_manager'\n",
      "]\n",
      "[autoreload of matplotlib.mathtext failed: Traceback (most recent call last):\n",
      "  File \"/opt/conda/lib/python3.6/site-packages/IPython/extensions/autoreload.py\", line 244, in check\n",
      "    superreload(m, reload, self.old_objects)\n",
      "  File \"/opt/conda/lib/python3.6/site-packages/IPython/extensions/autoreload.py\", line 376, in superreload\n",
      "    module = reload(module)\n",
      "  File \"/opt/conda/lib/python3.6/imp.py\", line 314, in reload\n",
      "    return importlib.reload(module)\n",
      "  File \"/opt/conda/lib/python3.6/importlib/__init__.py\", line 166, in reload\n",
      "    _bootstrap._exec(spec, module)\n",
      "  File \"<frozen importlib._bootstrap>\", line 608, in _exec\n",
      "  File \"<frozen importlib._bootstrap_external>\", line 678, in exec_module\n",
      "  File \"<frozen importlib._bootstrap>\", line 205, in _call_with_frames_removed\n",
      "  File \"/opt/conda/lib/python3.6/site-packages/matplotlib/mathtext.py\", line 61, in <module>\n",
      "    import matplotlib.colors as mcolors\n",
      "AttributeError: module 'matplotlib' has no attribute 'colors'\n",
      "]\n",
      "[autoreload of matplotlib.dviread failed: Traceback (most recent call last):\n",
      "  File \"/opt/conda/lib/python3.6/site-packages/IPython/extensions/autoreload.py\", line 244, in check\n",
      "    superreload(m, reload, self.old_objects)\n",
      "  File \"/opt/conda/lib/python3.6/site-packages/IPython/extensions/autoreload.py\", line 376, in superreload\n",
      "    module = reload(module)\n",
      "  File \"/opt/conda/lib/python3.6/imp.py\", line 314, in reload\n",
      "    return importlib.reload(module)\n",
      "  File \"/opt/conda/lib/python3.6/importlib/__init__.py\", line 166, in reload\n",
      "    _bootstrap._exec(spec, module)\n",
      "  File \"<frozen importlib._bootstrap>\", line 608, in _exec\n",
      "  File \"<frozen importlib._bootstrap_external>\", line 678, in exec_module\n",
      "  File \"<frozen importlib._bootstrap>\", line 205, in _call_with_frames_removed\n",
      "  File \"/opt/conda/lib/python3.6/site-packages/matplotlib/dviread.py\", line 29, in <module>\n",
      "    import matplotlib.cbook as mpl_cbook\n",
      "AttributeError: module 'matplotlib' has no attribute 'cbook'\n",
      "]\n",
      "[autoreload of matplotlib.backend_tools failed: Traceback (most recent call last):\n",
      "  File \"/opt/conda/lib/python3.6/site-packages/IPython/extensions/autoreload.py\", line 244, in check\n",
      "    superreload(m, reload, self.old_objects)\n",
      "  File \"/opt/conda/lib/python3.6/site-packages/IPython/extensions/autoreload.py\", line 376, in superreload\n",
      "    module = reload(module)\n",
      "  File \"/opt/conda/lib/python3.6/imp.py\", line 314, in reload\n",
      "    return importlib.reload(module)\n",
      "  File \"/opt/conda/lib/python3.6/importlib/__init__.py\", line 166, in reload\n",
      "    _bootstrap._exec(spec, module)\n",
      "  File \"<frozen importlib._bootstrap>\", line 608, in _exec\n",
      "  File \"<frozen importlib._bootstrap_external>\", line 678, in exec_module\n",
      "  File \"<frozen importlib._bootstrap>\", line 205, in _call_with_frames_removed\n",
      "  File \"/opt/conda/lib/python3.6/site-packages/matplotlib/backend_tools.py\", line 17, in <module>\n",
      "    import matplotlib.cbook as cbook\n",
      "AttributeError: module 'matplotlib' has no attribute 'cbook'\n",
      "]\n",
      "[autoreload of matplotlib.texmanager failed: Traceback (most recent call last):\n",
      "  File \"/opt/conda/lib/python3.6/site-packages/IPython/extensions/autoreload.py\", line 244, in check\n",
      "    superreload(m, reload, self.old_objects)\n",
      "  File \"/opt/conda/lib/python3.6/site-packages/IPython/extensions/autoreload.py\", line 376, in superreload\n",
      "    module = reload(module)\n",
      "  File \"/opt/conda/lib/python3.6/imp.py\", line 314, in reload\n",
      "    return importlib.reload(module)\n",
      "  File \"/opt/conda/lib/python3.6/importlib/__init__.py\", line 166, in reload\n",
      "    _bootstrap._exec(spec, module)\n",
      "  File \"<frozen importlib._bootstrap>\", line 608, in _exec\n",
      "  File \"<frozen importlib._bootstrap_external>\", line 678, in exec_module\n",
      "  File \"<frozen importlib._bootstrap>\", line 205, in _call_with_frames_removed\n",
      "  File \"/opt/conda/lib/python3.6/site-packages/matplotlib/texmanager.py\", line 58, in <module>\n",
      "    import matplotlib.dviread as dviread\n",
      "AttributeError: module 'matplotlib' has no attribute 'dviread'\n",
      "]\n",
      "[autoreload of matplotlib.blocking_input failed: Traceback (most recent call last):\n",
      "  File \"/opt/conda/lib/python3.6/site-packages/IPython/extensions/autoreload.py\", line 244, in check\n",
      "    superreload(m, reload, self.old_objects)\n",
      "  File \"/opt/conda/lib/python3.6/site-packages/IPython/extensions/autoreload.py\", line 376, in superreload\n",
      "    module = reload(module)\n",
      "  File \"/opt/conda/lib/python3.6/imp.py\", line 314, in reload\n",
      "    return importlib.reload(module)\n",
      "  File \"/opt/conda/lib/python3.6/importlib/__init__.py\", line 166, in reload\n",
      "    _bootstrap._exec(spec, module)\n",
      "  File \"<frozen importlib._bootstrap>\", line 608, in _exec\n",
      "  File \"<frozen importlib._bootstrap_external>\", line 678, in exec_module\n",
      "  File \"<frozen importlib._bootstrap>\", line 205, in _call_with_frames_removed\n",
      "  File \"/opt/conda/lib/python3.6/site-packages/matplotlib/blocking_input.py\", line 31, in <module>\n",
      "    import matplotlib.lines as mlines\n",
      "AttributeError: module 'matplotlib' has no attribute 'lines'\n",
      "]\n",
      "[autoreload of matplotlib.gridspec failed: Traceback (most recent call last):\n",
      "  File \"/opt/conda/lib/python3.6/site-packages/IPython/extensions/autoreload.py\", line 244, in check\n",
      "    superreload(m, reload, self.old_objects)\n",
      "  File \"/opt/conda/lib/python3.6/site-packages/IPython/extensions/autoreload.py\", line 376, in superreload\n",
      "    module = reload(module)\n",
      "  File \"/opt/conda/lib/python3.6/imp.py\", line 314, in reload\n",
      "    return importlib.reload(module)\n",
      "  File \"/opt/conda/lib/python3.6/importlib/__init__.py\", line 166, in reload\n",
      "    _bootstrap._exec(spec, module)\n",
      "  File \"<frozen importlib._bootstrap>\", line 608, in _exec\n",
      "  File \"<frozen importlib._bootstrap_external>\", line 678, in exec_module\n",
      "  File \"<frozen importlib._bootstrap>\", line 205, in _call_with_frames_removed\n",
      "  File \"/opt/conda/lib/python3.6/site-packages/matplotlib/gridspec.py\", line 26, in <module>\n",
      "    import matplotlib.transforms as mtransforms\n",
      "AttributeError: module 'matplotlib' has no attribute 'transforms'\n",
      "]\n",
      "[autoreload of matplotlib.figure failed: Traceback (most recent call last):\n",
      "  File \"/opt/conda/lib/python3.6/site-packages/IPython/extensions/autoreload.py\", line 244, in check\n",
      "    superreload(m, reload, self.old_objects)\n",
      "  File \"/opt/conda/lib/python3.6/site-packages/IPython/extensions/autoreload.py\", line 376, in superreload\n",
      "    module = reload(module)\n",
      "  File \"/opt/conda/lib/python3.6/imp.py\", line 314, in reload\n",
      "    return importlib.reload(module)\n",
      "  File \"/opt/conda/lib/python3.6/importlib/__init__.py\", line 166, in reload\n",
      "    _bootstrap._exec(spec, module)\n",
      "  File \"<frozen importlib._bootstrap>\", line 608, in _exec\n",
      "  File \"<frozen importlib._bootstrap_external>\", line 678, in exec_module\n",
      "  File \"<frozen importlib._bootstrap>\", line 205, in _call_with_frames_removed\n",
      "  File \"/opt/conda/lib/python3.6/site-packages/matplotlib/figure.py\", line 28, in <module>\n",
      "    import matplotlib.artist as martist\n",
      "AttributeError: module 'matplotlib' has no attribute 'artist'\n",
      "]\n",
      "[autoreload of matplotlib.image failed: Traceback (most recent call last):\n",
      "  File \"/opt/conda/lib/python3.6/site-packages/IPython/extensions/autoreload.py\", line 244, in check\n",
      "    superreload(m, reload, self.old_objects)\n",
      "  File \"/opt/conda/lib/python3.6/site-packages/IPython/extensions/autoreload.py\", line 376, in superreload\n",
      "    module = reload(module)\n",
      "  File \"/opt/conda/lib/python3.6/imp.py\", line 314, in reload\n",
      "    return importlib.reload(module)\n",
      "  File \"/opt/conda/lib/python3.6/importlib/__init__.py\", line 166, in reload\n",
      "    _bootstrap._exec(spec, module)\n",
      "  File \"<frozen importlib._bootstrap>\", line 608, in _exec\n",
      "  File \"<frozen importlib._bootstrap_external>\", line 678, in exec_module\n",
      "  File \"<frozen importlib._bootstrap>\", line 205, in _call_with_frames_removed\n",
      "  File \"/opt/conda/lib/python3.6/site-packages/matplotlib/image.py\", line 20, in <module>\n",
      "    import matplotlib.artist as martist\n",
      "AttributeError: module 'matplotlib' has no attribute 'artist'\n",
      "]\n",
      "[autoreload of matplotlib.axes._subplots failed: Traceback (most recent call last):\n",
      "  File \"/opt/conda/lib/python3.6/site-packages/IPython/extensions/autoreload.py\", line 244, in check\n",
      "    superreload(m, reload, self.old_objects)\n",
      "  File \"/opt/conda/lib/python3.6/site-packages/IPython/extensions/autoreload.py\", line 376, in superreload\n",
      "    module = reload(module)\n",
      "  File \"/opt/conda/lib/python3.6/imp.py\", line 314, in reload\n",
      "    return importlib.reload(module)\n",
      "  File \"/opt/conda/lib/python3.6/importlib/__init__.py\", line 166, in reload\n",
      "    _bootstrap._exec(spec, module)\n",
      "  File \"<frozen importlib._bootstrap>\", line 608, in _exec\n",
      "  File \"<frozen importlib._bootstrap_external>\", line 678, in exec_module\n",
      "  File \"<frozen importlib._bootstrap>\", line 205, in _call_with_frames_removed\n",
      "  File \"/opt/conda/lib/python3.6/site-packages/matplotlib/axes/_subplots.py\", line 9, in <module>\n",
      "    import matplotlib.artist as martist\n",
      "AttributeError: module 'matplotlib' has no attribute 'artist'\n",
      "]\n",
      "[autoreload of matplotlib.axes._axes failed: Traceback (most recent call last):\n",
      "  File \"/opt/conda/lib/python3.6/site-packages/IPython/extensions/autoreload.py\", line 244, in check\n",
      "    superreload(m, reload, self.old_objects)\n",
      "  File \"/opt/conda/lib/python3.6/site-packages/IPython/extensions/autoreload.py\", line 376, in superreload\n",
      "    module = reload(module)\n",
      "  File \"/opt/conda/lib/python3.6/imp.py\", line 314, in reload\n",
      "    return importlib.reload(module)\n",
      "  File \"/opt/conda/lib/python3.6/importlib/__init__.py\", line 166, in reload\n",
      "    _bootstrap._exec(spec, module)\n",
      "  File \"<frozen importlib._bootstrap>\", line 608, in _exec\n",
      "  File \"<frozen importlib._bootstrap_external>\", line 678, in exec_module\n",
      "  File \"<frozen importlib._bootstrap>\", line 205, in _call_with_frames_removed\n",
      "  File \"/opt/conda/lib/python3.6/site-packages/matplotlib/axes/_axes.py\", line 17, in <module>\n",
      "    import matplotlib.cbook as cbook\n",
      "AttributeError: module 'matplotlib' has no attribute 'cbook'\n",
      "]\n",
      "[autoreload of matplotlib.offsetbox failed: Traceback (most recent call last):\n",
      "  File \"/opt/conda/lib/python3.6/site-packages/IPython/extensions/autoreload.py\", line 244, in check\n",
      "    superreload(m, reload, self.old_objects)\n",
      "  File \"/opt/conda/lib/python3.6/site-packages/IPython/extensions/autoreload.py\", line 376, in superreload\n",
      "    module = reload(module)\n",
      "  File \"/opt/conda/lib/python3.6/imp.py\", line 314, in reload\n",
      "    return importlib.reload(module)\n",
      "  File \"/opt/conda/lib/python3.6/importlib/__init__.py\", line 166, in reload\n",
      "    _bootstrap._exec(spec, module)\n",
      "  File \"<frozen importlib._bootstrap>\", line 608, in _exec\n",
      "  File \"<frozen importlib._bootstrap_external>\", line 678, in exec_module\n",
      "  File \"<frozen importlib._bootstrap>\", line 205, in _call_with_frames_removed\n",
      "  File \"/opt/conda/lib/python3.6/site-packages/matplotlib/offsetbox.py\", line 24, in <module>\n",
      "    import matplotlib.transforms as mtransforms\n",
      "AttributeError: module 'matplotlib' has no attribute 'transforms'\n",
      "]\n",
      "[autoreload of matplotlib.container failed: Traceback (most recent call last):\n",
      "  File \"/opt/conda/lib/python3.6/site-packages/IPython/extensions/autoreload.py\", line 244, in check\n",
      "    superreload(m, reload, self.old_objects)\n",
      "  File \"/opt/conda/lib/python3.6/site-packages/IPython/extensions/autoreload.py\", line 376, in superreload\n",
      "    module = reload(module)\n",
      "  File \"/opt/conda/lib/python3.6/imp.py\", line 314, in reload\n",
      "    return importlib.reload(module)\n",
      "  File \"/opt/conda/lib/python3.6/importlib/__init__.py\", line 166, in reload\n",
      "    _bootstrap._exec(spec, module)\n",
      "  File \"<frozen importlib._bootstrap>\", line 608, in _exec\n",
      "  File \"<frozen importlib._bootstrap_external>\", line 678, in exec_module\n",
      "  File \"<frozen importlib._bootstrap>\", line 205, in _call_with_frames_removed\n",
      "  File \"/opt/conda/lib/python3.6/site-packages/matplotlib/container.py\", line 6, in <module>\n",
      "    import matplotlib.cbook as cbook\n",
      "AttributeError: module 'matplotlib' has no attribute 'cbook'\n",
      "]\n",
      "[autoreload of matplotlib.legend_handler failed: Traceback (most recent call last):\n",
      "  File \"/opt/conda/lib/python3.6/site-packages/IPython/extensions/autoreload.py\", line 244, in check\n",
      "    superreload(m, reload, self.old_objects)\n",
      "  File \"/opt/conda/lib/python3.6/site-packages/IPython/extensions/autoreload.py\", line 376, in superreload\n",
      "    module = reload(module)\n",
      "  File \"/opt/conda/lib/python3.6/imp.py\", line 314, in reload\n",
      "    return importlib.reload(module)\n",
      "  File \"/opt/conda/lib/python3.6/importlib/__init__.py\", line 166, in reload\n",
      "    _bootstrap._exec(spec, module)\n",
      "  File \"<frozen importlib._bootstrap>\", line 608, in _exec\n",
      "  File \"<frozen importlib._bootstrap_external>\", line 678, in exec_module\n",
      "  File \"<frozen importlib._bootstrap>\", line 205, in _call_with_frames_removed\n",
      "  File \"/opt/conda/lib/python3.6/site-packages/matplotlib/legend_handler.py\", line 37, in <module>\n",
      "    import matplotlib.collections as mcoll\n",
      "AttributeError: module 'matplotlib' has no attribute 'collections'\n",
      "]\n",
      "[autoreload of matplotlib.quiver failed: Traceback (most recent call last):\n",
      "  File \"/opt/conda/lib/python3.6/site-packages/IPython/extensions/autoreload.py\", line 244, in check\n",
      "    superreload(m, reload, self.old_objects)\n",
      "  File \"/opt/conda/lib/python3.6/site-packages/IPython/extensions/autoreload.py\", line 376, in superreload\n",
      "    module = reload(module)\n",
      "  File \"/opt/conda/lib/python3.6/imp.py\", line 314, in reload\n",
      "    return importlib.reload(module)\n",
      "  File \"/opt/conda/lib/python3.6/importlib/__init__.py\", line 166, in reload\n",
      "    _bootstrap._exec(spec, module)\n",
      "  File \"<frozen importlib._bootstrap>\", line 608, in _exec\n",
      "  File \"<frozen importlib._bootstrap_external>\", line 678, in exec_module\n",
      "  File \"<frozen importlib._bootstrap>\", line 205, in _call_with_frames_removed\n",
      "  File \"/opt/conda/lib/python3.6/site-packages/matplotlib/quiver.py\", line 25, in <module>\n",
      "    import matplotlib.collections as mcollections\n",
      "AttributeError: module 'matplotlib' has no attribute 'collections'\n",
      "]\n",
      "[autoreload of matplotlib.streamplot failed: Traceback (most recent call last):\n",
      "  File \"/opt/conda/lib/python3.6/site-packages/IPython/extensions/autoreload.py\", line 244, in check\n",
      "    superreload(m, reload, self.old_objects)\n",
      "  File \"/opt/conda/lib/python3.6/site-packages/IPython/extensions/autoreload.py\", line 376, in superreload\n",
      "    module = reload(module)\n",
      "  File \"/opt/conda/lib/python3.6/imp.py\", line 314, in reload\n",
      "    return importlib.reload(module)\n",
      "  File \"/opt/conda/lib/python3.6/importlib/__init__.py\", line 166, in reload\n",
      "    _bootstrap._exec(spec, module)\n",
      "  File \"<frozen importlib._bootstrap>\", line 608, in _exec\n",
      "  File \"<frozen importlib._bootstrap_external>\", line 678, in exec_module\n",
      "  File \"<frozen importlib._bootstrap>\", line 205, in _call_with_frames_removed\n",
      "  File \"/opt/conda/lib/python3.6/site-packages/matplotlib/streamplot.py\", line 13, in <module>\n",
      "    import matplotlib.cm as cm\n",
      "AttributeError: module 'matplotlib' has no attribute 'cm'\n",
      "]\n",
      "[autoreload of matplotlib.tri.triangulation failed: Traceback (most recent call last):\n",
      "  File \"/opt/conda/lib/python3.6/site-packages/IPython/extensions/autoreload.py\", line 244, in check\n",
      "    superreload(m, reload, self.old_objects)\n",
      "  File \"/opt/conda/lib/python3.6/site-packages/IPython/extensions/autoreload.py\", line 376, in superreload\n",
      "    module = reload(module)\n",
      "  File \"/opt/conda/lib/python3.6/imp.py\", line 314, in reload\n",
      "    return importlib.reload(module)\n",
      "  File \"/opt/conda/lib/python3.6/importlib/__init__.py\", line 166, in reload\n",
      "    _bootstrap._exec(spec, module)\n",
      "  File \"<frozen importlib._bootstrap>\", line 608, in _exec\n",
      "  File \"<frozen importlib._bootstrap_external>\", line 678, in exec_module\n",
      "  File \"<frozen importlib._bootstrap>\", line 205, in _call_with_frames_removed\n",
      "  File \"/opt/conda/lib/python3.6/site-packages/matplotlib/tri/triangulation.py\", line 6, in <module>\n",
      "    import matplotlib._tri as _tri\n",
      "AttributeError: module 'matplotlib' has no attribute '_tri'\n",
      "]\n",
      "[autoreload of matplotlib.tri.tricontour failed: Traceback (most recent call last):\n",
      "  File \"/opt/conda/lib/python3.6/site-packages/IPython/extensions/autoreload.py\", line 244, in check\n",
      "    superreload(m, reload, self.old_objects)\n",
      "  File \"/opt/conda/lib/python3.6/site-packages/IPython/extensions/autoreload.py\", line 376, in superreload\n",
      "    module = reload(module)\n",
      "  File \"/opt/conda/lib/python3.6/imp.py\", line 314, in reload\n",
      "    return importlib.reload(module)\n",
      "  File \"/opt/conda/lib/python3.6/importlib/__init__.py\", line 166, in reload\n",
      "    _bootstrap._exec(spec, module)\n",
      "  File \"<frozen importlib._bootstrap>\", line 608, in _exec\n",
      "  File \"<frozen importlib._bootstrap_external>\", line 678, in exec_module\n",
      "  File \"<frozen importlib._bootstrap>\", line 205, in _call_with_frames_removed\n",
      "  File \"/opt/conda/lib/python3.6/site-packages/matplotlib/tri/tricontour.py\", line 8, in <module>\n",
      "    import matplotlib._tri as _tri\n",
      "AttributeError: module 'matplotlib' has no attribute '_tri'\n",
      "]\n",
      "[autoreload of matplotlib.tri.trifinder failed: Traceback (most recent call last):\n",
      "  File \"/opt/conda/lib/python3.6/site-packages/IPython/extensions/autoreload.py\", line 244, in check\n",
      "    superreload(m, reload, self.old_objects)\n",
      "  File \"/opt/conda/lib/python3.6/site-packages/IPython/extensions/autoreload.py\", line 376, in superreload\n",
      "    module = reload(module)\n",
      "  File \"/opt/conda/lib/python3.6/imp.py\", line 314, in reload\n",
      "    return importlib.reload(module)\n",
      "  File \"/opt/conda/lib/python3.6/importlib/__init__.py\", line 166, in reload\n",
      "    _bootstrap._exec(spec, module)\n",
      "  File \"<frozen importlib._bootstrap>\", line 608, in _exec\n",
      "  File \"<frozen importlib._bootstrap_external>\", line 678, in exec_module\n",
      "  File \"<frozen importlib._bootstrap>\", line 205, in _call_with_frames_removed\n",
      "  File \"/opt/conda/lib/python3.6/site-packages/matplotlib/tri/trifinder.py\", line 7, in <module>\n",
      "    import matplotlib._tri as _tri\n",
      "AttributeError: module 'matplotlib' has no attribute '_tri'\n",
      "]\n",
      "[autoreload of matplotlib.tri.triinterpolate failed: Traceback (most recent call last):\n",
      "  File \"/opt/conda/lib/python3.6/site-packages/IPython/extensions/autoreload.py\", line 244, in check\n",
      "    superreload(m, reload, self.old_objects)\n",
      "  File \"/opt/conda/lib/python3.6/site-packages/IPython/extensions/autoreload.py\", line 392, in superreload\n",
      "    update_generic(old_obj, new_obj)\n",
      "  File \"/opt/conda/lib/python3.6/site-packages/IPython/extensions/autoreload.py\", line 329, in update_generic\n",
      "    update(a, b)\n",
      "  File \"/opt/conda/lib/python3.6/site-packages/IPython/extensions/autoreload.py\", line 277, in update_class\n",
      "    if old_obj == new_obj:\n",
      "ValueError: The truth value of an array with more than one element is ambiguous. Use a.any() or a.all()\n",
      "]\n",
      "[autoreload of matplotlib.axes._base failed: Traceback (most recent call last):\n",
      "  File \"/opt/conda/lib/python3.6/site-packages/IPython/extensions/autoreload.py\", line 244, in check\n",
      "    superreload(m, reload, self.old_objects)\n",
      "  File \"/opt/conda/lib/python3.6/site-packages/IPython/extensions/autoreload.py\", line 376, in superreload\n",
      "    module = reload(module)\n",
      "  File \"/opt/conda/lib/python3.6/imp.py\", line 314, in reload\n",
      "    return importlib.reload(module)\n",
      "  File \"/opt/conda/lib/python3.6/importlib/__init__.py\", line 166, in reload\n",
      "    _bootstrap._exec(spec, module)\n",
      "  File \"<frozen importlib._bootstrap>\", line 608, in _exec\n",
      "  File \"<frozen importlib._bootstrap_external>\", line 678, in exec_module\n",
      "  File \"<frozen importlib._bootstrap>\", line 205, in _call_with_frames_removed\n",
      "  File \"/opt/conda/lib/python3.6/site-packages/matplotlib/axes/_base.py\", line 23, in <module>\n",
      "    import matplotlib.colors as mcolors\n",
      "AttributeError: module 'matplotlib' has no attribute 'colors'\n",
      "]\n",
      "[autoreload of matplotlib.axis failed: Traceback (most recent call last):\n",
      "  File \"/opt/conda/lib/python3.6/site-packages/IPython/extensions/autoreload.py\", line 244, in check\n",
      "    superreload(m, reload, self.old_objects)\n",
      "  File \"/opt/conda/lib/python3.6/site-packages/IPython/extensions/autoreload.py\", line 376, in superreload\n",
      "    module = reload(module)\n",
      "  File \"/opt/conda/lib/python3.6/imp.py\", line 314, in reload\n",
      "    return importlib.reload(module)\n",
      "  File \"/opt/conda/lib/python3.6/importlib/__init__.py\", line 166, in reload\n",
      "    _bootstrap._exec(spec, module)\n",
      "  File \"<frozen importlib._bootstrap>\", line 608, in _exec\n",
      "  File \"<frozen importlib._bootstrap_external>\", line 678, in exec_module\n",
      "  File \"<frozen importlib._bootstrap>\", line 205, in _call_with_frames_removed\n",
      "  File \"/opt/conda/lib/python3.6/site-packages/matplotlib/axis.py\", line 10, in <module>\n",
      "    import matplotlib.artist as artist\n",
      "AttributeError: module 'matplotlib' has no attribute 'artist'\n",
      "]\n",
      "[autoreload of matplotlib.spines failed: Traceback (most recent call last):\n",
      "  File \"/opt/conda/lib/python3.6/site-packages/IPython/extensions/autoreload.py\", line 244, in check\n",
      "    superreload(m, reload, self.old_objects)\n",
      "  File \"/opt/conda/lib/python3.6/site-packages/IPython/extensions/autoreload.py\", line 376, in superreload\n",
      "    module = reload(module)\n",
      "  File \"/opt/conda/lib/python3.6/imp.py\", line 314, in reload\n",
      "    return importlib.reload(module)\n",
      "  File \"/opt/conda/lib/python3.6/importlib/__init__.py\", line 166, in reload\n",
      "    _bootstrap._exec(spec, module)\n",
      "  File \"<frozen importlib._bootstrap>\", line 608, in _exec\n",
      "  File \"<frozen importlib._bootstrap_external>\", line 678, in exec_module\n",
      "  File \"<frozen importlib._bootstrap>\", line 205, in _call_with_frames_removed\n",
      "  File \"/opt/conda/lib/python3.6/site-packages/matplotlib/spines.py\", line 8, in <module>\n",
      "    import matplotlib.artist as martist\n",
      "AttributeError: module 'matplotlib' has no attribute 'artist'\n",
      "]\n",
      "[autoreload of matplotlib.projections.geo failed: Traceback (most recent call last):\n",
      "  File \"/opt/conda/lib/python3.6/site-packages/IPython/extensions/autoreload.py\", line 244, in check\n",
      "    superreload(m, reload, self.old_objects)\n",
      "  File \"/opt/conda/lib/python3.6/site-packages/IPython/extensions/autoreload.py\", line 376, in superreload\n",
      "    module = reload(module)\n",
      "  File \"/opt/conda/lib/python3.6/imp.py\", line 314, in reload\n",
      "    return importlib.reload(module)\n",
      "  File \"/opt/conda/lib/python3.6/importlib/__init__.py\", line 166, in reload\n",
      "    _bootstrap._exec(spec, module)\n",
      "  File \"<frozen importlib._bootstrap>\", line 608, in _exec\n",
      "  File \"<frozen importlib._bootstrap_external>\", line 678, in exec_module\n",
      "  File \"<frozen importlib._bootstrap>\", line 205, in _call_with_frames_removed\n",
      "  File \"/opt/conda/lib/python3.6/site-packages/matplotlib/projections/geo.py\", line 17, in <module>\n",
      "    import matplotlib.spines as mspines\n",
      "AttributeError: module 'matplotlib' has no attribute 'spines'\n",
      "]\n",
      "[autoreload of matplotlib.projections.polar failed: Traceback (most recent call last):\n",
      "  File \"/opt/conda/lib/python3.6/site-packages/IPython/extensions/autoreload.py\", line 244, in check\n",
      "    superreload(m, reload, self.old_objects)\n",
      "  File \"/opt/conda/lib/python3.6/site-packages/IPython/extensions/autoreload.py\", line 376, in superreload\n",
      "    module = reload(module)\n",
      "  File \"/opt/conda/lib/python3.6/imp.py\", line 314, in reload\n",
      "    return importlib.reload(module)\n",
      "  File \"/opt/conda/lib/python3.6/importlib/__init__.py\", line 166, in reload\n",
      "    _bootstrap._exec(spec, module)\n",
      "  File \"<frozen importlib._bootstrap>\", line 608, in _exec\n",
      "  File \"<frozen importlib._bootstrap_external>\", line 678, in exec_module\n",
      "  File \"<frozen importlib._bootstrap>\", line 205, in _call_with_frames_removed\n",
      "  File \"/opt/conda/lib/python3.6/site-packages/matplotlib/projections/polar.py\", line 14, in <module>\n",
      "    import matplotlib.axis as maxis\n",
      "AttributeError: module 'matplotlib' has no attribute 'axis'\n",
      "]\n"
     ]
    },
    {
     "data": {
      "text/plain": [
       "1"
      ]
     },
     "execution_count": 314,
     "metadata": {},
     "output_type": "execute_result"
    }
   ],
   "source": [
    "1"
   ]
  },
  {
   "cell_type": "code",
   "execution_count": null,
   "metadata": {},
   "outputs": [],
   "source": []
  }
 ],
 "metadata": {
  "kernelspec": {
   "display_name": "Python 3",
   "language": "python",
   "name": "python3"
  },
  "language_info": {
   "codemirror_mode": {
    "name": "ipython",
    "version": 3
   },
   "file_extension": ".py",
   "mimetype": "text/x-python",
   "name": "python",
   "nbconvert_exporter": "python",
   "pygments_lexer": "ipython3",
   "version": "3.6.0"
  }
 },
 "nbformat": 4,
 "nbformat_minor": 2
}

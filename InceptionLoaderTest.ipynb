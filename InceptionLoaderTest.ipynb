{
 "cells": [
  {
   "cell_type": "code",
   "execution_count": 1,
   "metadata": {},
   "outputs": [],
   "source": [
    "# !pip install gensim"
   ]
  },
  {
   "cell_type": "code",
   "execution_count": 1,
   "metadata": {},
   "outputs": [
    {
     "name": "stdout",
     "output_type": "stream",
     "text": [
      "Tue Feb 12 18:47:25 2019       \n",
      "+-----------------------------------------------------------------------------+\n",
      "| NVIDIA-SMI 410.78       Driver Version: 410.78       CUDA Version: 10.0     |\n",
      "|-------------------------------+----------------------+----------------------+\n",
      "| GPU  Name        Persistence-M| Bus-Id        Disp.A | Volatile Uncorr. ECC |\n",
      "| Fan  Temp  Perf  Pwr:Usage/Cap|         Memory-Usage | GPU-Util  Compute M. |\n",
      "|===============================+======================+======================|\n",
      "|   0  Tesla P100-PCIE...  Off  | 00000000:04:00.0 Off |                    0 |\n",
      "| N/A   33C    P0    30W / 250W |   6423MiB / 12198MiB |      0%      Default |\n",
      "+-------------------------------+----------------------+----------------------+\n",
      "|   1  Tesla P100-PCIE...  Off  | 00000000:06:00.0 Off |                    0 |\n",
      "| N/A   32C    P0    29W / 250W |    349MiB / 12198MiB |      0%      Default |\n",
      "+-------------------------------+----------------------+----------------------+\n",
      "                                                                               \n",
      "+-----------------------------------------------------------------------------+\n",
      "| Processes:                                                       GPU Memory |\n",
      "|  GPU       PID   Type   Process name                             Usage      |\n",
      "|=============================================================================|\n",
      "+-----------------------------------------------------------------------------+\n",
      "Tue Feb 12 18:47:26 2019       \n",
      "+-----------------------------------------------------------------------------+\n",
      "| NVIDIA-SMI 410.78       Driver Version: 410.78       CUDA Version: 10.0     |\n",
      "|-------------------------------+----------------------+----------------------+\n",
      "| GPU  Name        Persistence-M| Bus-Id        Disp.A | Volatile Uncorr. ECC |\n",
      "| Fan  Temp  Perf  Pwr:Usage/Cap|         Memory-Usage | GPU-Util  Compute M. |\n",
      "|===============================+======================+======================|\n",
      "|   0  Tesla P100-PCIE...  Off  | 00000000:04:00.0 Off |                    0 |\n",
      "| N/A   33C    P0    30W / 250W |   6423MiB / 12198MiB |      0%      Default |\n",
      "+-------------------------------+----------------------+----------------------+\n",
      "|   1  Tesla P100-PCIE...  Off  | 00000000:06:00.0 Off |                    0 |\n",
      "| N/A   32C    P0    29W / 250W |    349MiB / 12198MiB |      0%      Default |\n",
      "+-------------------------------+----------------------+----------------------+\n",
      "                                                                               \n",
      "+-----------------------------------------------------------------------------+\n",
      "| Processes:                                                       GPU Memory |\n",
      "|  GPU       PID   Type   Process name                             Usage      |\n",
      "|=============================================================================|\n",
      "+-----------------------------------------------------------------------------+\n"
     ]
    }
   ],
   "source": [
    "!nvidia-smi\n",
    "model = None\n",
    "!nvidia-smi"
   ]
  },
  {
   "cell_type": "code",
   "execution_count": null,
   "metadata": {},
   "outputs": [],
   "source": []
  },
  {
   "cell_type": "code",
   "execution_count": 2,
   "metadata": {},
   "outputs": [],
   "source": [
    "%load_ext autoreload\n",
    "%autoreload 2"
   ]
  },
  {
   "cell_type": "code",
   "execution_count": 3,
   "metadata": {},
   "outputs": [
    {
     "name": "stderr",
     "output_type": "stream",
     "text": [
      "Using TensorFlow backend.\n"
     ]
    }
   ],
   "source": [
    "from train import ModelLoader, load_and_save_params\n",
    "from datasets.cvpr2016_cub_loader import Cvpr2016CubLoader\n",
    "from common.util import Namespace\n",
    "import numpy as np\n",
    "from tqdm import tqdm\n",
    "from scipy.spatial import cKDTree, KDTree\n",
    "import time\n",
    "from common.metrics import ap_at_k_prototypes\n",
    "import os, pwd\n",
    "from common.pretrained_models import InceptionV3Loader, InceptionV2Loader\n",
    "from common.pretrained_models import INCEPTION_V2_PATH\n",
    "from PIL import Image"
   ]
  },
  {
   "cell_type": "code",
   "execution_count": 4,
   "metadata": {},
   "outputs": [
    {
     "name": "stdout",
     "output_type": "stream",
     "text": [
      "INFO:tensorflow:Restoring parameters from /mnt/datasets/public/research/cvpr2016_cub/inception_v2.ckpt\n"
     ]
    },
    {
     "name": "stderr",
     "output_type": "stream",
     "text": [
      "INFO:tensorflow:Restoring parameters from /mnt/datasets/public/research/cvpr2016_cub/inception_v2.ckpt\n"
     ]
    }
   ],
   "source": [
    "model = None\n",
    "model = InceptionV2Loader()"
   ]
  },
  {
   "cell_type": "code",
   "execution_count": 5,
   "metadata": {},
   "outputs": [
    {
     "name": "stdout",
     "output_type": "stream",
     "text": [
      "0.904487 9.62683\n",
      "251 251\n",
      "0.880126 9.28199\n",
      "388 388\n",
      "0.740908 8.68079\n",
      "0 0\n",
      "(1, 1024)\n"
     ]
    }
   ],
   "source": [
    "sample_images = ['dog.jpg', 'panda.jpg', 'tinca_tinca.jpg']\n",
    "\n",
    "for image in sample_images:\n",
    "    im = Image.open(image).resize((299,299))\n",
    "    im = np.array(im)\n",
    "    im = im.reshape(-1,299,299,3).astype(np.float32)\n",
    "    predict_values, logit_values, embedding = model.predict(im)\n",
    "    print (np.max(predict_values), np.max(logit_values))\n",
    "    print (np.argmax(predict_values)-1, np.argmax(logit_values)-1)\n",
    "    \n",
    "print(embedding.shape)"
   ]
  },
  {
   "cell_type": "code",
   "execution_count": 6,
   "metadata": {},
   "outputs": [
    {
     "name": "stdout",
     "output_type": "stream",
     "text": [
      "INFO:tensorflow:Restoring parameters from /mnt/datasets/public/research/cvpr2016_cub/inception_v3.ckpt\n"
     ]
    },
    {
     "name": "stderr",
     "output_type": "stream",
     "text": [
      "INFO:tensorflow:Restoring parameters from /mnt/datasets/public/research/cvpr2016_cub/inception_v3.ckpt\n"
     ]
    }
   ],
   "source": [
    "model = None\n",
    "model = InceptionV3Loader()"
   ]
  },
  {
   "cell_type": "code",
   "execution_count": 7,
   "metadata": {},
   "outputs": [
    {
     "name": "stdout",
     "output_type": "stream",
     "text": [
      "0.996392 13.0912\n",
      "251 251\n",
      "0.950092 10.0441\n",
      "388 388\n",
      "0.981881 11.0987\n",
      "0 0\n",
      "(1, 2048)\n"
     ]
    }
   ],
   "source": [
    "sample_images = ['dog.jpg', 'panda.jpg', 'tinca_tinca.jpg']\n",
    "\n",
    "for image in sample_images:\n",
    "    im = Image.open(image).resize((299,299))\n",
    "    im = np.array(im)\n",
    "    im = im.reshape(-1,299,299,3).astype(np.float32)\n",
    "    predict_values, logit_values, embedding = model.predict(im)\n",
    "    print (np.max(predict_values), np.max(logit_values))\n",
    "    print (np.argmax(predict_values)-1, np.argmax(logit_values)-1)\n",
    "    \n",
    "print(embedding.shape)"
   ]
  },
  {
   "cell_type": "code",
   "execution_count": null,
   "metadata": {},
   "outputs": [],
   "source": []
  }
 ],
 "metadata": {
  "kernelspec": {
   "display_name": "Python 3",
   "language": "python",
   "name": "python3"
  },
  "language_info": {
   "codemirror_mode": {
    "name": "ipython",
    "version": 3
   },
   "file_extension": ".py",
   "mimetype": "text/x-python",
   "name": "python",
   "nbconvert_exporter": "python",
   "pygments_lexer": "ipython3",
   "version": "3.6.0"
  }
 },
 "nbformat": 4,
 "nbformat_minor": 2
}
